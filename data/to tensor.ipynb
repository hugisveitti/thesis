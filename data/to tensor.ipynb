{
 "cells": [
  {
   "cell_type": "markdown",
   "id": "7ba09bfb",
   "metadata": {},
   "source": [
    "## Save numpy and images as tensors, that can be used out of the box"
   ]
  },
  {
   "cell_type": "code",
   "execution_count": 1,
   "id": "2ab53553",
   "metadata": {},
   "outputs": [],
   "source": [
    "import numpy as np\n",
    "import torch\n",
    "import torchvision.transforms as T\n",
    "import os\n",
    "from PIL import Image\n",
    "from tqdm import tqdm"
   ]
  },
  {
   "cell_type": "code",
   "execution_count": 8,
   "id": "c485149b",
   "metadata": {},
   "outputs": [],
   "source": [
    "normalize = T.Normalize(mean=(0.5, 0.5, 0.5), std=(0.5, 0.5, 0.5))\n",
    "toTensor = T.ToTensor()"
   ]
  },
  {
   "cell_type": "code",
   "execution_count": 14,
   "id": "1fab27c0",
   "metadata": {},
   "outputs": [],
   "source": []
  },
  {
   "cell_type": "code",
   "execution_count": 26,
   "id": "af8a77a7",
   "metadata": {},
   "outputs": [],
   "source": [
    "def open_img(idx):\n",
    "    with Image.open(os.path.join(rgb_dir, rgb_files[idx])) as img:\n",
    "        img = toTensor(img)[:3,:,:]\n",
    "        img = normalize(img)\n",
    "        img = img.type(torch.FloatTensor)\n",
    "    return img\n",
    "\n",
    "def open_classes(idx):\n",
    "\n",
    "    with np.load(os.path.join(lc_dir,lc_files[0])) as classes:\n",
    "        classes = classes[\"arr_0\"]\n",
    "        classes = torch.from_numpy(classes).type(torch.FloatTensor)\n",
    "        classes = torch.movedim(classes, -1, 0)\n",
    "    return classes"
   ]
  },
  {
   "cell_type": "code",
   "execution_count": 27,
   "id": "dc080f4b",
   "metadata": {},
   "outputs": [],
   "source": []
  },
  {
   "cell_type": "code",
   "execution_count": 34,
   "id": "30530b83",
   "metadata": {},
   "outputs": [],
   "source": []
  },
  {
   "cell_type": "code",
   "execution_count": 38,
   "id": "65b8c9dc",
   "metadata": {},
   "outputs": [
    {
     "name": "stderr",
     "output_type": "stream",
     "text": [
      "100%|██████████| 1000/1000 [00:22<00:00, 44.68it/s]\n",
      "100%|██████████| 11000/11000 [04:53<00:00, 37.53it/s]\n"
     ]
    }
   ],
   "source": [
    "\n",
    "root_dir = \"train\"\n",
    "for root_dir in [\"val\", \"train\"]:\n",
    "    rgb_dir = os.path.join(root_dir, \"rgb\")\n",
    "    lc_dir = os.path.join(root_dir, \"lc_classes\")\n",
    "    rgb_files = os.listdir(rgb_dir)\n",
    "    lc_files = os.listdir(lc_dir)\n",
    "    rgb_tensor_dir = os.path.join(root_dir, \"rgb_tensors\")\n",
    "    lc_tensor_dir = os.path.join(root_dir, \"lc_tensors\")\n",
    "    if not os.path.exists(rgb_tensor_dir):\n",
    "        os.mkdir(rgb_tensor_dir)\n",
    "    if not os.path.exists(lc_tensor_dir):\n",
    "        os.mkdir(lc_tensor_dir)\n",
    "\n",
    "    for i in tqdm(range(len(rgb_files))):\n",
    "        img = open_img(i)\n",
    "        torch.save(img, os.path.join(rgb_tensor_dir, rgb_files[i].split(\".\")[0] + \".pt\"))\n",
    "\n",
    "        classes = open_classes(i)\n",
    "        torch.save(classes, os.path.join(lc_tensor_dir, lc_files[i].split(\".\")[0] + \".pt\"))\n"
   ]
  },
  {
   "cell_type": "code",
   "execution_count": 2,
   "id": "42d55d49",
   "metadata": {},
   "outputs": [],
   "source": [
    "root_dir = \"train\"\n",
    "rgb_file_dir = os.path.join(root_dir, \"rgb_tensors\")\n",
    "rgb_files = os.listdir(rgb_file_dir)"
   ]
  },
  {
   "cell_type": "code",
   "execution_count": 4,
   "id": "ff362fea",
   "metadata": {},
   "outputs": [],
   "source": [
    "file = os.path.join(rgb_file_dir, rgb_files[0])"
   ]
  },
  {
   "cell_type": "code",
   "execution_count": 5,
   "id": "65468799",
   "metadata": {},
   "outputs": [
    {
     "data": {
      "text/plain": [
       "'train\\\\rgb_tensors\\\\T32UMF_20170619T103021_10002_1006.pt'"
      ]
     },
     "execution_count": 5,
     "metadata": {},
     "output_type": "execute_result"
    }
   ],
   "source": [
    "file"
   ]
  },
  {
   "cell_type": "code",
   "execution_count": 8,
   "id": "e4d33d3c",
   "metadata": {},
   "outputs": [],
   "source": [
    "img = torch.load(file)"
   ]
  },
  {
   "cell_type": "code",
   "execution_count": 7,
   "id": "b5141413",
   "metadata": {},
   "outputs": [
    {
     "data": {
      "text/plain": [
       "tensor([[[-0.5922, -0.5373, -0.5843,  ..., -0.8039, -0.7882, -0.7569],\n",
       "         [-0.6314, -0.6000, -0.6314,  ..., -0.8118, -0.7804, -0.7490],\n",
       "         [-0.6706, -0.6784, -0.6706,  ..., -0.8039, -0.7961, -0.7804],\n",
       "         ...,\n",
       "         [-0.2471, -0.2706, -0.2314,  ..., -0.6863, -0.7255, -0.7490],\n",
       "         [-0.2471, -0.2549, -0.2235,  ..., -0.5137, -0.5137, -0.5373],\n",
       "         [-0.2471, -0.2314, -0.2235,  ..., -0.3882, -0.3098, -0.3647]],\n",
       "\n",
       "        [[-0.4118, -0.4275, -0.4196,  ..., -0.5451, -0.6157, -0.6078],\n",
       "         [-0.3804, -0.4275, -0.4824,  ..., -0.5608, -0.6235, -0.6000],\n",
       "         [-0.3804, -0.4745, -0.4745,  ..., -0.6314, -0.6706, -0.6706],\n",
       "         ...,\n",
       "         [-0.3490, -0.3725, -0.3569,  ..., -0.5137, -0.5294, -0.5059],\n",
       "         [-0.3569, -0.3647, -0.3490,  ..., -0.3725, -0.3804, -0.4196],\n",
       "         [-0.3569, -0.3569, -0.3412,  ..., -0.3961, -0.3333, -0.3490]],\n",
       "\n",
       "        [[-0.7176, -0.7255, -0.7412,  ..., -0.8275, -0.8275, -0.8196],\n",
       "         [-0.7412, -0.7412, -0.7569,  ..., -0.8118, -0.8275, -0.8196],\n",
       "         [-0.7490, -0.7569, -0.7569,  ..., -0.8275, -0.8431, -0.8353],\n",
       "         ...,\n",
       "         [-0.6000, -0.6157, -0.5922,  ..., -0.7647, -0.8039, -0.8196],\n",
       "         [-0.6000, -0.6157, -0.5843,  ..., -0.5294, -0.5373, -0.6157],\n",
       "         [-0.5922, -0.5843, -0.5765,  ..., -0.5843, -0.5294, -0.5216]]])"
      ]
     },
     "execution_count": 7,
     "metadata": {},
     "output_type": "execute_result"
    }
   ],
   "source": [
    "torch.load(file)"
   ]
  },
  {
   "cell_type": "code",
   "execution_count": null,
   "id": "be953a88",
   "metadata": {},
   "outputs": [],
   "source": []
  }
 ],
 "metadata": {
  "kernelspec": {
   "display_name": "Python 3",
   "language": "python",
   "name": "python3"
  },
  "language_info": {
   "codemirror_mode": {
    "name": "ipython",
    "version": 3
   },
   "file_extension": ".py",
   "mimetype": "text/x-python",
   "name": "python",
   "nbconvert_exporter": "python",
   "pygments_lexer": "ipython3",
   "version": "3.9.5"
  }
 },
 "nbformat": 4,
 "nbformat_minor": 5
}
