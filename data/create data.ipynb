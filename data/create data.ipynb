{
 "cells": [
  {
   "cell_type": "code",
   "execution_count": 1,
   "id": "18f648ce",
   "metadata": {},
   "outputs": [],
   "source": [
    "import rasterio as rio\n",
    "from rasterio import warp\n",
    "import numpy as np\n",
    "import matplotlib.pyplot as plt\n",
    "\n",
    "from rasterio.windows import Window\n",
    "from rasterio.transform import Affine\n",
    "\n",
    "from shapely.geometry import box"
   ]
  },
  {
   "cell_type": "code",
   "execution_count": 2,
   "id": "19685435",
   "metadata": {},
   "outputs": [],
   "source": [
    "import os\n",
    "import matplotlib.patches as mpatches\n",
    "import ast\n",
    "from tqdm import tqdm\n",
    "import gc"
   ]
  },
  {
   "cell_type": "code",
   "execution_count": 3,
   "id": "c5ba3499",
   "metadata": {},
   "outputs": [],
   "source": [
    "rgb_path = \"satellite/rgb/\"\n",
    "scl_path = \"satellite/classifications/\"\n",
    "rgb_files = os.listdir(rgb_path)\n",
    "scl_files = os.listdir(scl_path)"
   ]
  },
  {
   "cell_type": "code",
   "execution_count": 4,
   "id": "860604f1",
   "metadata": {},
   "outputs": [],
   "source": [
    "# align classfication data to rgb data because of different spatial resolution\n",
    "def align(src, dst, src_arr, shape):\n",
    "    #src_new = np.repeat(np.zeros_like(dst_arr[[0]]), src.count, 0)\n",
    "    src_new = np.repeat(np.zeros(shape, dtype=np.uint8), src.count, 0)\n",
    "    geom = warp.reproject(\n",
    "        src_arr, src_new, \n",
    "        src_crs=src.crs, dst_crs=dst.crs,\n",
    "        src_transform=src.transform, dst_transform=dst.transform,\n",
    "        dst_resolution=dst.res,\n",
    "        resampling=warp.Resampling.nearest\n",
    "    )\n",
    "    return src_new, geom"
   ]
  },
  {
   "cell_type": "code",
   "execution_count": 5,
   "id": "b2ca38f0",
   "metadata": {},
   "outputs": [],
   "source": [
    "lc = rio.open(\"denmark_landcover.tif\")"
   ]
  },
  {
   "cell_type": "code",
   "execution_count": 6,
   "id": "db99044c",
   "metadata": {},
   "outputs": [],
   "source": [
    "lc_r = lc.read()\n",
    "shape = lc_r[[0]].shape"
   ]
  },
  {
   "cell_type": "code",
   "execution_count": 7,
   "id": "6b7c1d9e",
   "metadata": {},
   "outputs": [
    {
     "data": {
      "text/plain": [
       "(1, 41742, 40200)"
      ]
     },
     "execution_count": 7,
     "metadata": {},
     "output_type": "execute_result"
    }
   ],
   "source": [
    "shape"
   ]
  },
  {
   "cell_type": "code",
   "execution_count": 14,
   "id": "b8afc44b",
   "metadata": {},
   "outputs": [],
   "source": [
    "rgb = rio.open(rgb_path + rgb_files[1])"
   ]
  },
  {
   "cell_type": "code",
   "execution_count": 15,
   "id": "929a55fc",
   "metadata": {},
   "outputs": [],
   "source": [
    "s = rgb.read()[[0]].shape"
   ]
  },
  {
   "cell_type": "code",
   "execution_count": 16,
   "id": "c7b1f61a",
   "metadata": {},
   "outputs": [],
   "source": [
    "lc_a,geom2 = align(lc, rgb, lc_r, s)"
   ]
  },
  {
   "cell_type": "code",
   "execution_count": 17,
   "id": "160df0f9",
   "metadata": {},
   "outputs": [
    {
     "data": {
      "text/plain": [
       "(array([[[ 20,  20,  20, ..., 210, 210, 210],\n",
       "         [ 20,  20,  20, ..., 210, 210, 210],\n",
       "         [ 20,  20,  20, ..., 253, 253, 210],\n",
       "         ...,\n",
       "         [ 20,  20,  20, ..., 253, 253, 253],\n",
       "         [ 20,  20,  20, ..., 253, 253, 253],\n",
       "         [ 20,  20,  20, ..., 253, 253, 253]],\n",
       " \n",
       "        [[ 69,  69,  69, ...,   0,   0,   0],\n",
       "         [ 69,  69,  69, ...,   0,   0,   0],\n",
       "         [ 69,  69,  69, ..., 211, 211,   0],\n",
       "         ...,\n",
       "         [ 69,  69,  69, ..., 211, 211, 211],\n",
       "         [ 69,  69,  69, ..., 211, 211, 211],\n",
       "         [ 69,  69,  69, ..., 211, 211, 211]],\n",
       " \n",
       "        [[249, 249, 249, ...,   0,   0,   0],\n",
       "         [249, 249, 249, ...,   0,   0,   0],\n",
       "         [249, 249, 249, ...,  39,  39,   0],\n",
       "         ...,\n",
       "         [249, 249, 249, ...,  39,  39,  39],\n",
       "         [249, 249, 249, ...,  39,  39,  39],\n",
       "         [249, 249, 249, ...,  39,  39,  39]],\n",
       " \n",
       "        [[255, 255, 255, ..., 255, 255, 255],\n",
       "         [255, 255, 255, ..., 255, 255, 255],\n",
       "         [255, 255, 255, ..., 255, 255, 255],\n",
       "         ...,\n",
       "         [255, 255, 255, ..., 255, 255, 255],\n",
       "         [255, 255, 255, ..., 255, 255, 255],\n",
       "         [255, 255, 255, ..., 255, 255, 255]]], dtype=uint8),\n",
       " Affine(10.0, 0.0, 399960.0,\n",
       "        0.0, -10.0, 6200040.0))"
      ]
     },
     "execution_count": 17,
     "metadata": {},
     "output_type": "execute_result"
    }
   ],
   "source": [
    "geom2"
   ]
  },
  {
   "cell_type": "code",
   "execution_count": 13,
   "id": "f14b3870",
   "metadata": {},
   "outputs": [
    {
     "data": {
      "text/plain": [
       "(array([[[ 20,  20,  20, ..., 253, 253, 253],\n",
       "         [ 20,  20,  20, ..., 253, 253, 253],\n",
       "         [ 20,  20,  20, ..., 253, 253, 253],\n",
       "         ...,\n",
       "         [ 20,  20,  20, ..., 249, 249, 249],\n",
       "         [ 20,  20,  20, ..., 249, 249, 249],\n",
       "         [ 20,  20,  20, ..., 249, 249, 249]],\n",
       " \n",
       "        [[ 69,  69,  69, ..., 211, 211, 211],\n",
       "         [ 69,  69,  69, ..., 211, 211, 211],\n",
       "         [ 69,  69,  69, ..., 211, 211, 211],\n",
       "         ...,\n",
       "         [ 69,  69,  69, ..., 150, 150, 150],\n",
       "         [ 69,  69,  69, ..., 150, 150, 150],\n",
       "         [ 69,  69,  69, ..., 150, 150, 150]],\n",
       " \n",
       "        [[249, 249, 249, ...,  39,  39,  39],\n",
       "         [249, 249, 249, ...,  39,  39,  39],\n",
       "         [249, 249, 249, ...,  39,  39,  39],\n",
       "         ...,\n",
       "         [249, 249, 249, ...,  39,  39,  39],\n",
       "         [249, 249, 249, ...,  39,  39,  39],\n",
       "         [249, 249, 249, ...,  39,  39,  39]],\n",
       " \n",
       "        [[255, 255, 255, ..., 255, 255, 255],\n",
       "         [255, 255, 255, ..., 255, 255, 255],\n",
       "         [255, 255, 255, ..., 255, 255, 255],\n",
       "         ...,\n",
       "         [255, 255, 255, ..., 255, 255, 255],\n",
       "         [255, 255, 255, ..., 255, 255, 255],\n",
       "         [255, 255, 255, ..., 255, 255, 255]]], dtype=uint8),\n",
       " Affine(10.0, 0.0, 399960.0,\n",
       "        0.0, -10.0, 6100020.0))"
      ]
     },
     "execution_count": 13,
     "metadata": {},
     "output_type": "execute_result"
    }
   ],
   "source": [
    "geom"
   ]
  },
  {
   "cell_type": "code",
   "execution_count": 25,
   "id": "7c064c91",
   "metadata": {},
   "outputs": [
    {
     "data": {
      "text/plain": [
       "BoundingBox(left=4155094.8132666866, bottom=3433673.5335791074, right=4557094.813266687, top=3851093.5335791074)"
      ]
     },
     "execution_count": 25,
     "metadata": {},
     "output_type": "execute_result"
    }
   ],
   "source": [
    "lc.bounds"
   ]
  },
  {
   "cell_type": "code",
   "execution_count": 11,
   "id": "2087a5b8",
   "metadata": {},
   "outputs": [],
   "source": [
    "#lc_a.shape"
   ]
  },
  {
   "cell_type": "code",
   "execution_count": 12,
   "id": "2dda54a6",
   "metadata": {},
   "outputs": [
    {
     "name": "stderr",
     "output_type": "stream",
     "text": [
      " 54%|██████████████████████▌                   | 7/13 [02:26<02:05, 20.91s/it]\n"
     ]
    },
    {
     "ename": "CPLE_OutOfMemoryError",
     "evalue": "d:\\bld\\gdal-split_1623433063894\\work\\frmts\\mem\\memdataset.cpp, 1513: cannot allocate 1x1678028400 bytes",
     "output_type": "error",
     "traceback": [
      "\u001b[1;31m---------------------------------------------------------------------------\u001b[0m",
      "\u001b[1;31mCPLE_OutOfMemoryError\u001b[0m                     Traceback (most recent call last)",
      "\u001b[1;32m<ipython-input-12-aa8e8569afa3>\u001b[0m in \u001b[0;36m<module>\u001b[1;34m\u001b[0m\n\u001b[0;32m      5\u001b[0m     \u001b[0mrgb\u001b[0m\u001b[1;33m.\u001b[0m\u001b[0mclose\u001b[0m\u001b[1;33m(\u001b[0m\u001b[1;33m)\u001b[0m\u001b[1;33m\u001b[0m\u001b[1;33m\u001b[0m\u001b[0m\n\u001b[0;32m      6\u001b[0m \u001b[1;33m\u001b[0m\u001b[0m\n\u001b[1;32m----> 7\u001b[1;33m     \u001b[0mrgb_a\u001b[0m \u001b[1;33m=\u001b[0m \u001b[0malign\u001b[0m\u001b[1;33m(\u001b[0m\u001b[0mrgb\u001b[0m\u001b[1;33m,\u001b[0m \u001b[0mlc\u001b[0m\u001b[1;33m,\u001b[0m\u001b[0mrgb_r\u001b[0m\u001b[1;33m,\u001b[0m \u001b[0mshape\u001b[0m\u001b[1;33m)\u001b[0m\u001b[1;33m\u001b[0m\u001b[1;33m\u001b[0m\u001b[0m\n\u001b[0m\u001b[0;32m      8\u001b[0m \u001b[1;33m\u001b[0m\u001b[0m\n\u001b[0;32m      9\u001b[0m     \u001b[0mrgb_a\u001b[0m \u001b[1;33m=\u001b[0m \u001b[0mnp\u001b[0m\u001b[1;33m.\u001b[0m\u001b[0mmoveaxis\u001b[0m\u001b[1;33m(\u001b[0m\u001b[0mrgb_a\u001b[0m\u001b[1;33m,\u001b[0m \u001b[1;36m0\u001b[0m\u001b[1;33m,\u001b[0m \u001b[1;33m-\u001b[0m\u001b[1;36m1\u001b[0m\u001b[1;33m)\u001b[0m\u001b[1;33m\u001b[0m\u001b[1;33m\u001b[0m\u001b[0m\n",
      "\u001b[1;32m<ipython-input-4-3e90c7ee4e16>\u001b[0m in \u001b[0;36malign\u001b[1;34m(src, dst, src_arr, shape)\u001b[0m\n\u001b[0;32m      3\u001b[0m     \u001b[1;31m#src_new = np.repeat(np.zeros_like(dst_arr[[0]]), src.count, 0)\u001b[0m\u001b[1;33m\u001b[0m\u001b[1;33m\u001b[0m\u001b[1;33m\u001b[0m\u001b[0m\n\u001b[0;32m      4\u001b[0m     \u001b[0msrc_new\u001b[0m \u001b[1;33m=\u001b[0m \u001b[0mnp\u001b[0m\u001b[1;33m.\u001b[0m\u001b[0mrepeat\u001b[0m\u001b[1;33m(\u001b[0m\u001b[0mnp\u001b[0m\u001b[1;33m.\u001b[0m\u001b[0mzeros\u001b[0m\u001b[1;33m(\u001b[0m\u001b[0mshape\u001b[0m\u001b[1;33m,\u001b[0m \u001b[0mdtype\u001b[0m\u001b[1;33m=\u001b[0m\u001b[0mnp\u001b[0m\u001b[1;33m.\u001b[0m\u001b[0muint8\u001b[0m\u001b[1;33m)\u001b[0m\u001b[1;33m,\u001b[0m \u001b[0msrc\u001b[0m\u001b[1;33m.\u001b[0m\u001b[0mcount\u001b[0m\u001b[1;33m,\u001b[0m \u001b[1;36m0\u001b[0m\u001b[1;33m)\u001b[0m\u001b[1;33m\u001b[0m\u001b[1;33m\u001b[0m\u001b[0m\n\u001b[1;32m----> 5\u001b[1;33m     warp.reproject(\n\u001b[0m\u001b[0;32m      6\u001b[0m         \u001b[0msrc_arr\u001b[0m\u001b[1;33m,\u001b[0m \u001b[0msrc_new\u001b[0m\u001b[1;33m,\u001b[0m\u001b[1;33m\u001b[0m\u001b[1;33m\u001b[0m\u001b[0m\n\u001b[0;32m      7\u001b[0m         \u001b[0msrc_crs\u001b[0m\u001b[1;33m=\u001b[0m\u001b[0msrc\u001b[0m\u001b[1;33m.\u001b[0m\u001b[0mcrs\u001b[0m\u001b[1;33m,\u001b[0m \u001b[0mdst_crs\u001b[0m\u001b[1;33m=\u001b[0m\u001b[0mdst\u001b[0m\u001b[1;33m.\u001b[0m\u001b[0mcrs\u001b[0m\u001b[1;33m,\u001b[0m\u001b[1;33m\u001b[0m\u001b[1;33m\u001b[0m\u001b[0m\n",
      "\u001b[1;32m~\\Miniconda3\\lib\\site-packages\\rasterio\\env.py\u001b[0m in \u001b[0;36mwrapper\u001b[1;34m(*args, **kwds)\u001b[0m\n\u001b[0;32m    385\u001b[0m         \u001b[1;32melse\u001b[0m\u001b[1;33m:\u001b[0m\u001b[1;33m\u001b[0m\u001b[1;33m\u001b[0m\u001b[0m\n\u001b[0;32m    386\u001b[0m             \u001b[1;32mwith\u001b[0m \u001b[0mEnv\u001b[0m\u001b[1;33m.\u001b[0m\u001b[0mfrom_defaults\u001b[0m\u001b[1;33m(\u001b[0m\u001b[1;33m)\u001b[0m\u001b[1;33m:\u001b[0m\u001b[1;33m\u001b[0m\u001b[1;33m\u001b[0m\u001b[0m\n\u001b[1;32m--> 387\u001b[1;33m                 \u001b[1;32mreturn\u001b[0m \u001b[0mf\u001b[0m\u001b[1;33m(\u001b[0m\u001b[1;33m*\u001b[0m\u001b[0margs\u001b[0m\u001b[1;33m,\u001b[0m \u001b[1;33m**\u001b[0m\u001b[0mkwds\u001b[0m\u001b[1;33m)\u001b[0m\u001b[1;33m\u001b[0m\u001b[1;33m\u001b[0m\u001b[0m\n\u001b[0m\u001b[0;32m    388\u001b[0m     \u001b[1;32mreturn\u001b[0m \u001b[0mwrapper\u001b[0m\u001b[1;33m\u001b[0m\u001b[1;33m\u001b[0m\u001b[0m\n\u001b[0;32m    389\u001b[0m \u001b[1;33m\u001b[0m\u001b[0m\n",
      "\u001b[1;32m~\\Miniconda3\\lib\\site-packages\\rasterio\\env.py\u001b[0m in \u001b[0;36mwrapper\u001b[1;34m(*args, **kwds)\u001b[0m\n\u001b[0;32m    608\u001b[0m                                 param, full_kwds[param], inequality, version, reason))\n\u001b[0;32m    609\u001b[0m \u001b[1;33m\u001b[0m\u001b[0m\n\u001b[1;32m--> 610\u001b[1;33m             \u001b[1;32mreturn\u001b[0m \u001b[0mf\u001b[0m\u001b[1;33m(\u001b[0m\u001b[1;33m*\u001b[0m\u001b[0margs\u001b[0m\u001b[1;33m,\u001b[0m \u001b[1;33m**\u001b[0m\u001b[0mkwds\u001b[0m\u001b[1;33m)\u001b[0m\u001b[1;33m\u001b[0m\u001b[1;33m\u001b[0m\u001b[0m\n\u001b[0m\u001b[0;32m    611\u001b[0m \u001b[1;33m\u001b[0m\u001b[0m\n\u001b[0;32m    612\u001b[0m         \u001b[1;32mreturn\u001b[0m \u001b[0mwrapper\u001b[0m\u001b[1;33m\u001b[0m\u001b[1;33m\u001b[0m\u001b[0m\n",
      "\u001b[1;32m~\\Miniconda3\\lib\\site-packages\\rasterio\\warp.py\u001b[0m in \u001b[0;36mreproject\u001b[1;34m(source, destination, src_transform, gcps, rpcs, src_crs, src_nodata, dst_transform, dst_crs, dst_nodata, dst_resolution, src_alpha, dst_alpha, resampling, num_threads, init_dest_nodata, warp_mem_limit, **kwargs)\u001b[0m\n\u001b[0;32m    366\u001b[0m \u001b[1;33m\u001b[0m\u001b[0m\n\u001b[0;32m    367\u001b[0m     \u001b[1;31m# Call the function in our extension module.\u001b[0m\u001b[1;33m\u001b[0m\u001b[1;33m\u001b[0m\u001b[1;33m\u001b[0m\u001b[0m\n\u001b[1;32m--> 368\u001b[1;33m     _reproject(\n\u001b[0m\u001b[0;32m    369\u001b[0m         \u001b[0msource\u001b[0m\u001b[1;33m,\u001b[0m \u001b[0mdestination\u001b[0m\u001b[1;33m,\u001b[0m \u001b[0msrc_transform\u001b[0m\u001b[1;33m=\u001b[0m\u001b[0msrc_transform\u001b[0m\u001b[1;33m,\u001b[0m \u001b[0mgcps\u001b[0m\u001b[1;33m=\u001b[0m\u001b[0mgcps\u001b[0m\u001b[1;33m,\u001b[0m \u001b[0mrpcs\u001b[0m\u001b[1;33m=\u001b[0m\u001b[0mrpcs\u001b[0m\u001b[1;33m,\u001b[0m\u001b[1;33m\u001b[0m\u001b[1;33m\u001b[0m\u001b[0m\n\u001b[0;32m    370\u001b[0m         \u001b[0msrc_crs\u001b[0m\u001b[1;33m=\u001b[0m\u001b[0msrc_crs\u001b[0m\u001b[1;33m,\u001b[0m \u001b[0msrc_nodata\u001b[0m\u001b[1;33m=\u001b[0m\u001b[0msrc_nodata\u001b[0m\u001b[1;33m,\u001b[0m \u001b[0mdst_transform\u001b[0m\u001b[1;33m=\u001b[0m\u001b[0mdst_transform\u001b[0m\u001b[1;33m,\u001b[0m\u001b[1;33m\u001b[0m\u001b[1;33m\u001b[0m\u001b[0m\n",
      "\u001b[1;32mrasterio\\_warp.pyx\u001b[0m in \u001b[0;36mrasterio._warp._reproject\u001b[1;34m()\u001b[0m\n",
      "\u001b[1;32mrasterio\\_warp.pyx\u001b[0m in \u001b[0;36mrasterio._warp._reproject\u001b[1;34m()\u001b[0m\n",
      "\u001b[1;32mrasterio\\_io.pyx\u001b[0m in \u001b[0;36mrasterio._io.InMemoryRaster.__init__\u001b[1;34m()\u001b[0m\n",
      "\u001b[1;32mrasterio\\_err.pyx\u001b[0m in \u001b[0;36mrasterio._err.exc_wrap_pointer\u001b[1;34m()\u001b[0m\n",
      "\u001b[1;31mCPLE_OutOfMemoryError\u001b[0m: d:\\bld\\gdal-split_1623433063894\\work\\frmts\\mem\\memdataset.cpp, 1513: cannot allocate 1x1678028400 bytes"
     ]
    }
   ],
   "source": [
    "rgbs = []\n",
    "for idx in tqdm(range(len(rgb_files))):\n",
    "    rgb = rio.open(rgb_path + rgb_files[idx])\n",
    "    rgb_r = rgb.read()\n",
    "    rgb.close()\n",
    "    \n",
    "    rgb_a = align(rgb, lc,rgb_r, shape)\n",
    "    \n",
    "    rgb_a = np.moveaxis(rgb_a, 0, -1)\n",
    "    \n",
    "    rgbs.append(rgb_a)\n"
   ]
  },
  {
   "cell_type": "code",
   "execution_count": null,
   "id": "56c21dc9",
   "metadata": {},
   "outputs": [],
   "source": [
    "len(rgbs)"
   ]
  },
  {
   "cell_type": "code",
   "execution_count": null,
   "id": "a0ac5818",
   "metadata": {},
   "outputs": [],
   "source": []
  }
 ],
 "metadata": {
  "kernelspec": {
   "display_name": "Python 3",
   "language": "python",
   "name": "python3"
  },
  "language_info": {
   "codemirror_mode": {
    "name": "ipython",
    "version": 3
   },
   "file_extension": ".py",
   "mimetype": "text/x-python",
   "name": "python",
   "nbconvert_exporter": "python",
   "pygments_lexer": "ipython3",
   "version": "3.9.5"
  }
 },
 "nbformat": 4,
 "nbformat_minor": 5
}
