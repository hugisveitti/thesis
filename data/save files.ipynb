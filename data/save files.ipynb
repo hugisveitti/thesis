{
 "cells": [
  {
   "cell_type": "code",
   "execution_count": 1,
   "id": "cb25a915",
   "metadata": {},
   "outputs": [],
   "source": [
    "import rasterio as rio\n",
    "from rasterio import warp\n",
    "import numpy as np\n",
    "import matplotlib.pyplot as plt\n",
    "\n",
    "from rasterio.windows import Window\n",
    "from rasterio.transform import Affine\n",
    "\n",
    "from shapely.geometry import box"
   ]
  },
  {
   "cell_type": "code",
   "execution_count": 2,
   "id": "29e3e5ce",
   "metadata": {},
   "outputs": [],
   "source": [
    "import os\n",
    "import matplotlib.patches as mpatches\n",
    "import ast"
   ]
  },
  {
   "cell_type": "code",
   "execution_count": 3,
   "id": "60cadf71",
   "metadata": {},
   "outputs": [],
   "source": [
    "rgb_path = \"satellite/rgb/\"\n",
    "scl_path = \"satellite/classifications/\"\n",
    "rgb_files = os.listdir(rgb_path)\n",
    "scl_files = os.listdir(scl_path)"
   ]
  },
  {
   "cell_type": "code",
   "execution_count": 4,
   "id": "56640ff3",
   "metadata": {},
   "outputs": [
    {
     "data": {
      "text/plain": [
       "['T32UMF_20170619T103021_TCI_10m.jp2',\n",
       " 'T32UMG_20170829T105019_TCI_10m.jp2',\n",
       " 'T32UNG_20170823T103019_TCI_10m.jp2',\n",
       " 'T32UPF_20170619T103021_TCI_10m.jp2',\n",
       " 'T32UPF_20170709T103021_TCI_10m.jp2',\n",
       " 'T32UPF_20170823T103019_TCI_10m.jp2',\n",
       " 'T32UPG_20170527T102031_TCI_10m.jp2',\n",
       " 'T32UPG_20170823T103019_TCI_10m.jp2',\n",
       " 'T32VNH_20170823T103019_TCI_10m.jp2',\n",
       " 'T32VNJ_20170823T103019_TCI_10m.jp2',\n",
       " 'T32VPH_20170823T103019_TCI_10m.jp2',\n",
       " 'T33UUB_20170527T102031_TCI_10m.jp2',\n",
       " 'T33UUB_20170619T103021_TCI_10m.jp2']"
      ]
     },
     "execution_count": 4,
     "metadata": {},
     "output_type": "execute_result"
    }
   ],
   "source": [
    "rgb_files"
   ]
  },
  {
   "cell_type": "code",
   "execution_count": 5,
   "id": "86f68088",
   "metadata": {},
   "outputs": [],
   "source": [
    "labels = [\"no data\", \"saturated or defective\",\"dark_area_pixels\", \"cloud_shadows\", \"vegetation\",\"not vegetated\",\"water\", \"unclassified\",\"cloud medium probability\",\"cloud medium probability\",\"thin cirrus\", \"snow\"]\n",
    "labels = [f\"{i} {labels[i]}\" for i in range(len(labels))]"
   ]
  },
  {
   "cell_type": "code",
   "execution_count": 6,
   "id": "59200f5e",
   "metadata": {},
   "outputs": [],
   "source": [
    "# align classfication data to rgb data because of different spatial resolution\n",
    "def align(src, dst, src_arr, dst_arr):\n",
    "    src_new = np.repeat(np.zeros_like(dst_arr[[0]]), src.count, 0)\n",
    "    warp.reproject(\n",
    "        src_arr, src_new, \n",
    "        src_crs=src.crs, dst_crs=dst.crs,\n",
    "        src_transform=src.transform, dst_transform=dst.transform,\n",
    "        dst_resolution=dst.res,\n",
    "        resampling=warp.Resampling.nearest\n",
    "    )\n",
    "    return src_new"
   ]
  },
  {
   "cell_type": "code",
   "execution_count": 7,
   "id": "b6b26a1b",
   "metadata": {},
   "outputs": [],
   "source": [
    "lc = rio.open(\"denmark_landcover.tif\")"
   ]
  },
  {
   "cell_type": "code",
   "execution_count": 8,
   "id": "c945a2b9",
   "metadata": {},
   "outputs": [],
   "source": [
    "def get_scl_rgb_lc(idx):\n",
    "    rgb = rio.open(rgb_path + rgb_files[idx])\n",
    "    scl = rio.open(scl_path + scl_files[idx])\n",
    "    \n",
    "    rgb_r = rgb.read()\n",
    "    scl_a = align(scl, rgb, scl.read(), rgb_r)\n",
    "    lc_a = align(lc, rgb, lc.read(), rgb_r)\n",
    "    scl.close()\n",
    "    rgb.close()\n",
    "    return scl_a, rgb_r, lc_a"
   ]
  },
  {
   "cell_type": "code",
   "execution_count": 9,
   "id": "b3029093",
   "metadata": {},
   "outputs": [],
   "source": [
    "lc_labels = {\n",
    "    str([255, 255, 255, 255]):\"Clouds\",\n",
    "    str([210,0,0,255]):\"Artificial surfaces and constructions\",\n",
    "    str([253,211,39,255]):\"Cultivated areas\",\n",
    "    str([176,91,16,255]):\"Vineyards\",\n",
    "    str([35,152,0,255]):\"Broadleaf tree cover\",\n",
    "    str([8,98,0,255]):\"Coniferous tree cover\",\n",
    "    str([249,150,39,255]):\"Herbaceous vegetation\",\n",
    "    str([141,139,0,255]):\"Moors and Heathland\",\n",
    "    str([95,53,6,255]):\"Sclerophyllous vegetation\",\n",
    "    str([149,107,196,255]):\"Marshes\",\n",
    "    str([77,37,106,255]):\"Peatbogs\",\n",
    "    str([154,154,154,255]):\"Natural material surfaces\",\n",
    "    str([106,255,255,255]):\"Permanent snow covered surfaces\",\n",
    "    str([20,69,249,255]):\"Water bodies\",\n",
    "    str([255,255,255,255]):\"No data\",\n",
    "}"
   ]
  },
  {
   "cell_type": "code",
   "execution_count": 10,
   "id": "5a874c10",
   "metadata": {},
   "outputs": [],
   "source": [
    "# see what labels are in this landcover\n",
    "#lc_s = np.vstack(np.transpose(lc_a))\n",
    "#u = np.unique(lc_s,axis=0)\n",
    "#u\n",
    "#for i in u:\n",
    "#    print(lc_labels[str(list(i))])"
   ]
  },
  {
   "cell_type": "code",
   "execution_count": 11,
   "id": "d5eeb872",
   "metadata": {},
   "outputs": [
    {
     "data": {
      "text/plain": [
       "['0 no data',\n",
       " '1 saturated or defective',\n",
       " '2 dark_area_pixels',\n",
       " '3 cloud_shadows',\n",
       " '4 vegetation',\n",
       " '5 not vegetated',\n",
       " '6 water',\n",
       " '7 unclassified',\n",
       " '8 cloud medium probability',\n",
       " '9 cloud medium probability',\n",
       " '10 thin cirrus',\n",
       " '11 snow']"
      ]
     },
     "execution_count": 11,
     "metadata": {},
     "output_type": "execute_result"
    }
   ],
   "source": [
    "labels"
   ]
  },
  {
   "cell_type": "code",
   "execution_count": 12,
   "id": "7662afb9",
   "metadata": {},
   "outputs": [],
   "source": [
    "water = 6\n",
    "cloud = [3,8,9]\n",
    "invalid = [0, 1, 2]\n",
    "def is_lc_valid(scl):\n",
    "    classes = scl.flatten()\n",
    "    n = scl.shape[0] * scl.shape[1]\n",
    "    \n",
    "    if n * .4 < classes[classes == water].size:\n",
    "        # too much water\n",
    "      #  print(\"too much water\")\n",
    "        return False\n",
    "    # if more than 5% clouds or no data\n",
    "    for c in cloud:\n",
    "        if classes[classes == c].size > n*0.05:\n",
    "            # If contains clouds\n",
    "          #  print(\"Contains clouds\")\n",
    "            return False\n",
    "    \n",
    "    for c in invalid:\n",
    "        if classes[classes == c].size > n*0.05:\n",
    "            # If contains clouds\n",
    "           # print(\"Contains invalid\")\n",
    "            return False\n",
    "        \n",
    "    return True"
   ]
  },
  {
   "cell_type": "code",
   "execution_count": 13,
   "id": "fb4f94f1",
   "metadata": {},
   "outputs": [],
   "source": [
    "def plot_lc_hist(lc_256):\n",
    "    a = np.vstack(np.transpose(lc_256))\n",
    "    d = {}\n",
    "    for i in a:\n",
    "        l = str(list(i))\n",
    "        if l not in d:\n",
    "            d[l] = 0\n",
    "        d[l] += 1\n",
    "\n",
    "    labs = []\n",
    "    for l in d.keys():\n",
    "        labs.append(lc_labels[l])\n",
    "\n",
    "    plt.bar(labs, d.values())\n",
    "    plt.xticks(rotation = \"vertical\")"
   ]
  },
  {
   "cell_type": "code",
   "execution_count": 14,
   "id": "95cf9fb9",
   "metadata": {},
   "outputs": [],
   "source": [
    "def plot_scl_hist(scl_256):\n",
    "    a = scl_256.flatten()\n",
    "    d = {}\n",
    "    for i in a:\n",
    "        # l = str(list(i))\n",
    "\n",
    "        l = i\n",
    "        if l not in d:\n",
    "            d[l] = 0\n",
    "        d[l] += 1\n",
    "    labs = []\n",
    "    for l in d.keys():\n",
    "        labs.append(labels[l])\n",
    "\n",
    "    plt.bar(labs, d.values())\n",
    "    plt.xticks(rotation = \"vertical\")"
   ]
  },
  {
   "cell_type": "code",
   "execution_count": 15,
   "id": "7bf48708",
   "metadata": {},
   "outputs": [],
   "source": [
    "def print_all(scl_256, rgb_256, lc_256,root_dir):\n",
    "    cmap = plt.get_cmap(\"viridis\")\n",
    "    fig, ax = plt.subplots(1,3, figsize=(12,16))\n",
    "    ax[0].imshow(np.moveaxis(lc_256, 0, -1))\n",
    "    ax[0].set_title(\"lc\")\n",
    "    ax[1].imshow(np.moveaxis(rgb_256, 0, -1))\n",
    "    ax[1].set_title(\"rgb\")\n",
    "    ax[2].imshow(scl_256/11, cmap=cmap)\n",
    "    ax[2].set_title(\"scl\")\n",
    "\n",
    "    patches = [mpatches.Patch(color=np.array(ast.literal_eval(i))/255, label=lc_labels[i]) for i in lc_labels]\n",
    "    l1 = plt.legend(handles=patches, loc=\"best\",bbox_to_anchor=(-.3,-.3,1,.1), ncol=3, title=\"lc labels\")\n",
    "\n",
    "\n",
    "    patches2 = [mpatches.Patch(color=cmap(i/11), label=labels[i]) for i in range(len(labels))]\n",
    "    l2 = plt.legend(handles=patches2, loc=\"best\",bbox_to_anchor=(0,1.5,1,.1), ncol=3, title=\"scl labels\")\n",
    "    plt.gca().add_artist(l1)\n",
    "\n",
    "    fn = rgb_files[idx].split(\"_\")\n",
    "\n",
    "    \n",
    "    fn = f\"{root_dir}/all/{fn[0]}_{fn[1]}_{w}_{h}.png\"\n",
    "    \n",
    "    plt.savefig(fn)\n",
    "    plt.close(\"all\")"
   ]
  },
  {
   "cell_type": "code",
   "execution_count": 16,
   "id": "760ff21f",
   "metadata": {},
   "outputs": [],
   "source": [
    "def save_imgs(scl_256, rgb_256, lc_256, root_dir):\n",
    "    if not is_lc_valid(scl_256):\n",
    "        return False\n",
    "    fn = rgb_files[idx].split(\"_\")\n",
    "    fn = f\"{fn[0]}_{fn[1]}\"\n",
    "    pathname = f\"{fn}_{w}_{h}.png\"\n",
    "    scl_fn = f\"{root_dir}/scl/{pathname}\"\n",
    "    lc_fn = f\"{root_dir}/lc/{pathname}\"\n",
    "    rgb_fn = f\"{root_dir}/rgb/{pathname}\"\n",
    "\n",
    "    plt.imsave(scl_fn, scl_256)\n",
    "    lc_256 = np.ascontiguousarray(np.moveaxis(lc_256, 0, -1))\n",
    "\n",
    "    rgb_256 = np.ascontiguousarray(np.moveaxis(rgb_256, 0, -1))\n",
    "\n",
    "    plt.imsave(lc_fn, lc_256)\n",
    "    plt.imsave(rgb_fn, rgb_256)\n",
    "    return True"
   ]
  },
  {
   "cell_type": "code",
   "execution_count": 17,
   "id": "96af0a89",
   "metadata": {},
   "outputs": [],
   "source": [
    "possible_dirs = [\"train\", \"test\", \"val\"]\n",
    "possible_subdirs = [\"rgb\", \"all\", \"lc\",\"scl\"]\n",
    "for d in possible_dirs:\n",
    "    if not os.path.exists(d):\n",
    "        os.mkdir(d)\n",
    "    for sd in possible_subdirs:\n",
    "        full_sd = f\"{d}/{sd}\"\n",
    "        if not os.path.exists(full_sd):\n",
    "            os.mkdir(full_sd)"
   ]
  },
  {
   "cell_type": "code",
   "execution_count": 18,
   "id": "b45c14ec",
   "metadata": {},
   "outputs": [
    {
     "name": "stdout",
     "output_type": "stream",
     "text": [
      "idx 0 j 0 j 100 j 200 j 300 j 400 j 500 j 600 j 700 j 800 j 900 \n",
      "idx 1 j 0 j 100 j 200 j 300 j 400 j 500 j 600 j 700 j 800 j 900 \n",
      "idx 2 j 0 j 100 j 200 j 300 j 400 j 500 j 600 j 700 j 800 j 900 \n",
      "idx 3 j 0 j 100 j 200 j 300 j 400 j 500 j 600 j 700 j 800 j 900 \n",
      "idx 4 j 0 j 100 j 200 j 300 j 400 j 500 j 600 j 700 j 800 j 900 \n",
      "idx 5 j 0 j 100 j 200 j 300 j 400 j 500 j 600 j 700 j 800 j 900 \n",
      "idx 6 j 0 j 100 j 200 j 300 j 400 j 500 j 600 j 700 j 800 j 900 \n",
      "idx 7 j 0 j 100 j 200 j 300 j 400 j 500 j 600 j 700 j 800 j 900 \n",
      "idx 8 j 0 j 100 j 200 j 300 j 400 j 500 j 600 j 700 j 800 j 900 \n",
      "idx 9 j 0 j 100 j 200 j 300 j 400 j 500 j 600 j 700 j 800 j 900 \n",
      "idx 10 j 0 j 100 j 200 j 300 j 400 j 500 j 600 j 700 j 800 j 900 \n",
      "idx 11 j 0 j 100 j 200 j 300 j 400 j 500 j 600 j 700 j 800 j 900 \n",
      "idx 12 j 0 j 100 j 200 j 300 j 400 j 500 j 600 j 700 j 800 j 900 \n"
     ]
    }
   ],
   "source": [
    "for idx in range(len(rgb_files)):\n",
    "    print(\"idx\",idx,end=\" \")\n",
    "    j=0\n",
    "    # save 1000 samples\n",
    "    if idx <= 10:\n",
    "        root_dir = \"train\"\n",
    "    elif idx == 11:\n",
    "        root_dir = \"val\"\n",
    "    elif idx == 12:\n",
    "        root_dir = \"test\"\n",
    "    scl_a, rgb_r, lc_a = get_scl_rgb_lc(idx)\n",
    "\n",
    "    while j < 1000:\n",
    "\n",
    "        w, h = np.random.randint(rgb_r.shape[2]-256), np.random.randint(rgb_r.shape[1]-256)\n",
    "        w,h\n",
    "        lc_256 = lc_a[:,h:h+256,w:w+256]\n",
    "        rgb_256 = rgb_r[:,h:h+256,w:w+256]\n",
    "        scl_256 = scl_a[0][h:h+256,w:w+256]\n",
    "\n",
    "        if save_imgs(scl_256, rgb_256, lc_256,root_dir):\n",
    "            if j%100 == 0:\n",
    "                print(\"j\",j, end=\" \")\n",
    "                print_all(scl_256, rgb_256, lc_256, root_dir)\n",
    "            j+=1\n",
    "    print()"
   ]
  },
  {
   "cell_type": "code",
   "execution_count": 19,
   "id": "fbe26be7",
   "metadata": {},
   "outputs": [],
   "source": [
    "lc_2562 = np.ascontiguousarray(np.moveaxis(lc_256, 0, -1))"
   ]
  },
  {
   "cell_type": "code",
   "execution_count": 20,
   "id": "936fa445",
   "metadata": {},
   "outputs": [
    {
     "data": {
      "text/plain": [
       "(256, 256, 3)"
      ]
     },
     "execution_count": 20,
     "metadata": {},
     "output_type": "execute_result"
    }
   ],
   "source": [
    "lc_2562 = lc_2562[:,:,:3]\n",
    "lc_2562.shape"
   ]
  },
  {
   "cell_type": "code",
   "execution_count": 21,
   "id": "b7104da1",
   "metadata": {},
   "outputs": [],
   "source": [
    "h = 1952\n",
    "w = 7524\n",
    "lc_256 = lc_a[:,h:h+256,w:w+256]\n",
    "rgb_256 = rgb_r[:,h:h+256,w:w+256]\n",
    "scl_256 = scl_a[0][h:h+256,w:w+256]\n",
    "\n",
    "#print(save_imgs(scl_256, rgb_256, lc_256, \"train\"))\n",
    "\n",
    "\n",
    "#print_all(scl_256, rgb_256, lc_256,\"train\")"
   ]
  },
  {
   "cell_type": "code",
   "execution_count": 22,
   "id": "97a4da44",
   "metadata": {},
   "outputs": [
    {
     "data": {
      "image/png": "[encoded data removed]",
      "text/plain": [
       "<Figure size 432x288 with 1 Axes>"
      ]
     },
     "metadata": {
      "needs_background": "light"
     },
     "output_type": "display_data"
    }
   ],
   "source": [
    "plot_scl_hist(scl_256)"
   ]
  },
  {
   "cell_type": "code",
   "execution_count": 23,
   "id": "0f7cd16d",
   "metadata": {},
   "outputs": [
    {
     "data": {
      "image/png": "[encoded data removed]",
      "text/plain": [
       "<Figure size 432x288 with 1 Axes>"
      ]
     },
     "metadata": {
      "needs_background": "light"
     },
     "output_type": "display_data"
    }
   ],
   "source": [
    "plot_lc_hist(lc_256)"
   ]
  },
  {
   "cell_type": "code",
   "execution_count": 24,
   "id": "55d78fa9",
   "metadata": {},
   "outputs": [],
   "source": [
    "t = plt.imread(\"val/rgb/T33UUB_20170527T102031_0_9719.png\")"
   ]
  },
  {
   "cell_type": "code",
   "execution_count": 26,
   "id": "f72cdd7d",
   "metadata": {},
   "outputs": [
    {
     "data": {
      "text/plain": [
       "(0.003921569, 1.0)"
      ]
     },
     "execution_count": 26,
     "metadata": {},
     "output_type": "execute_result"
    }
   ],
   "source": [
    "np.min(t), np.max(t)"
   ]
  },
  {
   "cell_type": "code",
   "execution_count": null,
   "id": "73a63f98",
   "metadata": {},
   "outputs": [],
   "source": []
  }
 ],
 "metadata": {
  "kernelspec": {
   "display_name": "Python 3",
   "language": "python",
   "name": "python3"
  },
  "language_info": {
   "codemirror_mode": {
    "name": "ipython",
    "version": 3
   },
   "file_extension": ".py",
   "mimetype": "text/x-python",
   "name": "python",
   "nbconvert_exporter": "python",
   "pygments_lexer": "ipython3",
   "version": "3.8.8"
  }
 },
 "nbformat": 4,
 "nbformat_minor": 5
}
