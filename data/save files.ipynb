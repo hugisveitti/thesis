{
 "cells": [
  {
   "cell_type": "markdown",
   "id": "0fe55b2e",
   "metadata": {},
   "source": [
    "### Save files\n",
    "\n",
    "Use the rgb, classifications and landcover files to create data samples\n",
    "\n",
    "\n",
    "Either iterate over the landcover, find rgb if scl is valid, create all of the available samples and split them into 80/10/10 train/val/test.\n",
    "\n",
    "Or use 1 tile for test, one for validation and the rest for training, problem is that they can overlap a little and they don't all contain the same amounts of valid samples.\n",
    "\n",
    "\n",
    "The tiles are 13 but some are images of the same area photographed at different dates. So there are really only 9 different tiles."
   ]
  },
  {
   "cell_type": "code",
   "execution_count": 4,
   "id": "cb25a915",
   "metadata": {},
   "outputs": [],
   "source": [
    "import rasterio as rio\n",
    "from rasterio import warp\n",
    "import numpy as np\n",
    "import matplotlib.pyplot as plt\n",
    "\n",
    "from rasterio.windows import Window\n",
    "from rasterio.transform import Affine\n",
    "\n",
    "from shapely.geometry import box"
   ]
  },
  {
   "cell_type": "code",
   "execution_count": 5,
   "id": "29e3e5ce",
   "metadata": {},
   "outputs": [],
   "source": [
    "import os\n",
    "import matplotlib.patches as mpatches\n",
    "import ast\n",
    "from tqdm import tqdm\n",
    "import gc"
   ]
  },
  {
   "cell_type": "code",
   "execution_count": 6,
   "id": "60cadf71",
   "metadata": {},
   "outputs": [],
   "source": [
    "rgb_path = \"satellite/rgb/\"\n",
    "scl_path = \"satellite/classifications/\"\n",
    "rgb_files = os.listdir(rgb_path)\n",
    "scl_files = os.listdir(scl_path)"
   ]
  },
  {
   "cell_type": "code",
   "execution_count": 7,
   "id": "56640ff3",
   "metadata": {},
   "outputs": [
    {
     "data": {
      "text/plain": [
       "['T32UMF_20170619T103021_TCI_10m.jp2',\n",
       " 'T32UMG_20170829T105019_TCI_10m.jp2',\n",
       " 'T32UNG_20170823T103019_TCI_10m.jp2',\n",
       " 'T32UPF_20170619T103021_TCI_10m.jp2',\n",
       " 'T32UPF_20170709T103021_TCI_10m.jp2',\n",
       " 'T32UPF_20170823T103019_TCI_10m.jp2',\n",
       " 'T32UPG_20170527T102031_TCI_10m.jp2',\n",
       " 'T32UPG_20170823T103019_TCI_10m.jp2',\n",
       " 'T32VNH_20170823T103019_TCI_10m.jp2',\n",
       " 'T32VNJ_20170823T103019_TCI_10m.jp2',\n",
       " 'T32VPH_20170823T103019_TCI_10m.jp2',\n",
       " 'T33UUB_20170527T102031_TCI_10m.jp2',\n",
       " 'T33UUB_20170619T103021_TCI_10m.jp2']"
      ]
     },
     "execution_count": 7,
     "metadata": {},
     "output_type": "execute_result"
    }
   ],
   "source": [
    "rgb_files"
   ]
  },
  {
   "cell_type": "code",
   "execution_count": 8,
   "id": "77c6985d",
   "metadata": {},
   "outputs": [
    {
     "data": {
      "text/plain": [
       "['T32UMF_20170619T103021_SCL_20m.jp2',\n",
       " 'T32UMG_20170829T105019_SCL_20m.jp2',\n",
       " 'T32UNG_20170823T103019_SCL_20m.jp2',\n",
       " 'T32UPF_20170619T103021_SCL_20m.jp2',\n",
       " 'T32UPF_20170709T103021_SCL_20m.jp2',\n",
       " 'T32UPF_20170823T103019_SCL_20m.jp2',\n",
       " 'T32UPG_20170527T102031_SCL_20m.jp2',\n",
       " 'T32UPG_20170823T103019_SCL_20m.jp2',\n",
       " 'T32VNH_20170823T103019_SCL_20m.jp2',\n",
       " 'T32VNJ_20170823T103019_SCL_20m.jp2',\n",
       " 'T32VPH_20170823T103019_SCL_20m.jp2',\n",
       " 'T33UUB_20170527T102031_SCL_20m.jp2',\n",
       " 'T33UUB_20170619T103021_SCL_20m.jp2']"
      ]
     },
     "execution_count": 8,
     "metadata": {},
     "output_type": "execute_result"
    }
   ],
   "source": [
    "scl_files"
   ]
  },
  {
   "cell_type": "code",
   "execution_count": 9,
   "id": "b9d8adc3",
   "metadata": {},
   "outputs": [],
   "source": [
    "tiles = []\n",
    "for f in rgb_files:\n",
    "    tile = f[3:6]\n",
    "    if tile not in tiles:\n",
    "        tiles.append(tile)"
   ]
  },
  {
   "cell_type": "code",
   "execution_count": 10,
   "id": "475d3e89",
   "metadata": {},
   "outputs": [],
   "source": [
    "# Rest is train tiles\n",
    "val_tile = \"UNG\"\n",
    "test_tile = \"UPG\""
   ]
  },
  {
   "cell_type": "code",
   "execution_count": 11,
   "id": "c47928fc",
   "metadata": {},
   "outputs": [
    {
     "data": {
      "text/plain": [
       "['UMF', 'UMG', 'UNG', 'UPF', 'UPG', 'VNH', 'VNJ', 'VPH', 'UUB']"
      ]
     },
     "execution_count": 11,
     "metadata": {},
     "output_type": "execute_result"
    }
   ],
   "source": [
    "tiles"
   ]
  },
  {
   "cell_type": "code",
   "execution_count": 12,
   "id": "86f68088",
   "metadata": {},
   "outputs": [],
   "source": [
    "labels = [\"no data\", \"saturated or defective\",\"dark_area_pixels\", \"cloud_shadows\", \"vegetation\",\"not vegetated\",\"water\", \"unclassified\",\"cloud medium probability\",\"cloud medium probability\",\"thin cirrus\", \"snow\"]\n",
    "labels = [f\"{i} {labels[i]}\" for i in range(len(labels))]"
   ]
  },
  {
   "cell_type": "code",
   "execution_count": 13,
   "id": "b3029093",
   "metadata": {},
   "outputs": [],
   "source": [
    "lc_labels = {\n",
    "    str([255, 255, 255, 255]):\"Clouds\",\n",
    "    str([210,0,0,255]):\"Artificial surfaces and constructions\",\n",
    "    str([253,211,39,255]):\"Cultivated areas\",\n",
    "    str([176,91,16,255]):\"Vineyards\",\n",
    "    str([35,152,0,255]):\"Broadleaf tree cover\",\n",
    "    str([8,98,0,255]):\"Coniferous tree cover\",\n",
    "    str([249,150,39,255]):\"Herbaceous vegetation\",\n",
    "    str([141,139,0,255]):\"Moors and Heathland\",\n",
    "    str([95,53,6,255]):\"Sclerophyllous vegetation\",\n",
    "    str([149,107,196,255]):\"Marshes\",\n",
    "    str([77,37,106,255]):\"Peatbogs\",\n",
    "    str([154,154,154,255]):\"Natural material surfaces\",\n",
    "    str([106,255,255,255]):\"Permanent snow covered surfaces\",\n",
    "    str([20,69,249,255]):\"Water bodies\",\n",
    "    str([255,255,255,255]):\"No data\",\n",
    "}"
   ]
  },
  {
   "cell_type": "code",
   "execution_count": 14,
   "id": "59200f5e",
   "metadata": {},
   "outputs": [],
   "source": [
    "# align classfication data to rgb data because of different spatial resolution\n",
    "def align(src, dst, src_arr, dst_arr):\n",
    "    src_new = np.repeat(np.zeros_like(dst_arr[[0]]), src.count, 0)\n",
    "    warp.reproject(\n",
    "        src_arr, src_new, \n",
    "        src_crs=src.crs, dst_crs=dst.crs,\n",
    "        src_transform=src.transform, dst_transform=dst.transform,\n",
    "        dst_resolution=dst.res,\n",
    "        resampling=warp.Resampling.nearest\n",
    "    )\n",
    "    return src_new"
   ]
  },
  {
   "cell_type": "code",
   "execution_count": 15,
   "id": "b6b26a1b",
   "metadata": {},
   "outputs": [],
   "source": [
    "lc = rio.open(\"denmark_landcover.tif\")"
   ]
  },
  {
   "cell_type": "code",
   "execution_count": 16,
   "id": "c945a2b9",
   "metadata": {},
   "outputs": [],
   "source": [
    "def get_scl_rgb_lc(idx):\n",
    "    rgb = rio.open(rgb_path + rgb_files[idx])\n",
    "    scl = rio.open(scl_path + scl_files[idx])\n",
    "    \n",
    "    rgb_r = rgb.read()\n",
    "    scl_a = align(scl, rgb, scl.read(), rgb_r)\n",
    "    lc_r = lc.read()\n",
    "    lc_a = align(lc, rgb, lc_r, rgb_r)\n",
    "    del lc_r\n",
    "    scl.close()\n",
    "    rgb.close()\n",
    "    return scl_a, rgb_r, lc_a"
   ]
  },
  {
   "cell_type": "code",
   "execution_count": 17,
   "id": "d5eeb872",
   "metadata": {},
   "outputs": [
    {
     "data": {
      "text/plain": [
       "['0 no data',\n",
       " '1 saturated or defective',\n",
       " '2 dark_area_pixels',\n",
       " '3 cloud_shadows',\n",
       " '4 vegetation',\n",
       " '5 not vegetated',\n",
       " '6 water',\n",
       " '7 unclassified',\n",
       " '8 cloud medium probability',\n",
       " '9 cloud medium probability',\n",
       " '10 thin cirrus',\n",
       " '11 snow']"
      ]
     },
     "execution_count": 17,
     "metadata": {},
     "output_type": "execute_result"
    }
   ],
   "source": [
    "labels"
   ]
  },
  {
   "cell_type": "code",
   "execution_count": 18,
   "id": "7662afb9",
   "metadata": {},
   "outputs": [],
   "source": [
    "water = 6\n",
    "cloud = [3,8,9]\n",
    "invalid = [0, 1, 2, 7, 10, 11]\n",
    "def is_lc_valid(scl):\n",
    "    classes = scl.flatten()\n",
    "    n = scl.shape[0] * scl.shape[1]\n",
    "    \n",
    "    if n * .4 < classes[classes == water].size:\n",
    "        # too much water\n",
    "      #  print(\"too much water\")\n",
    "        return False\n",
    "    # if more than 10% clouds or no data\n",
    "    sum_invalid = classes[classes == water].size\n",
    "    for c in cloud:\n",
    "        sum_invalid += classes[classes == c].size\n",
    "    \n",
    "    for c in invalid:\n",
    "        sum_invalid += classes[classes == c].size\n",
    "        \n",
    "    return sum_invalid < n * 0.1"
   ]
  },
  {
   "cell_type": "code",
   "execution_count": 19,
   "id": "fb4f94f1",
   "metadata": {},
   "outputs": [],
   "source": [
    "def plot_lc_hist(lc_256):\n",
    "    a = np.vstack(np.transpose(lc_256))\n",
    "    d = {}\n",
    "    for i in a:\n",
    "        l = str(list(i))\n",
    "        if l not in d:\n",
    "            d[l] = 0\n",
    "        d[l] += 1\n",
    "\n",
    "    labs = []\n",
    "    for l in d.keys():\n",
    "        labs.append(lc_labels[l])\n",
    "\n",
    "    plt.bar(labs, d.values())\n",
    "    plt.xticks(rotation = \"vertical\")"
   ]
  },
  {
   "cell_type": "code",
   "execution_count": 20,
   "id": "95cf9fb9",
   "metadata": {},
   "outputs": [],
   "source": [
    "def plot_scl_hist(scl_256):\n",
    "    a = scl_256.flatten()\n",
    "    d = {}\n",
    "    for i in a:\n",
    "        # l = str(list(i))\n",
    "        l = i\n",
    "        if l not in d:\n",
    "            d[l] = 0\n",
    "        d[l] += 1\n",
    "    labs = []\n",
    "    for l in d.keys():\n",
    "        labs.append(labels[l])\n",
    "\n",
    "    plt.bar(labs, d.values())\n",
    "    plt.xticks(rotation = \"vertical\")"
   ]
  },
  {
   "cell_type": "code",
   "execution_count": 21,
   "id": "7bf48708",
   "metadata": {},
   "outputs": [],
   "source": [
    "def print_all(scl_256, rgb_256, lc_256, root_dir):\n",
    "    cmap = plt.get_cmap(\"viridis\")\n",
    "    fig, ax = plt.subplots(1,3, figsize=(12,16))\n",
    "    fig.tight_layout()\n",
    "    ax[0].imshow(np.moveaxis(lc_256, 0, -1))\n",
    "    ax[0].set_title(\"lc\")\n",
    "    ax[1].imshow(np.moveaxis(rgb_256, 0, -1))\n",
    "    ax[1].set_title(\"rgb\")\n",
    "    ax[2].imshow(scl_256/11 , cmap=cmap, vmin=0, vmax=1)\n",
    "    ax[2].set_title(\"scl\")\n",
    "\n",
    "    patches = [mpatches.Patch(color=np.array(ast.literal_eval(i))/255, label=lc_labels[i]) for i in lc_labels]\n",
    "    l1 = plt.legend(handles=patches, loc=\"best\",bbox_to_anchor=(-.3,-.3,1,.1), ncol=3, title=\"lc labels\")\n",
    "\n",
    "\n",
    "    patches2 = [mpatches.Patch(color=cmap(i/11), label=labels[i]) for i in range(len(labels))]\n",
    "    l2 = plt.legend(handles=patches2, loc=\"best\",bbox_to_anchor=(0,1.5,1,.1), ncol=3, title=\"scl labels\")\n",
    "    plt.gca().add_artist(l1)\n",
    "\n",
    "    fn = rgb_files[idx].split(\"_\")\n",
    "\n",
    "    \n",
    "    fn = f\"{root_dir}/all/{fn[0][3:6]}_{w}_{h}.png\"\n",
    "    \n",
    "    plt.savefig(fn)\n",
    "    plt.close()"
   ]
  },
  {
   "cell_type": "code",
   "execution_count": 22,
   "id": "760ff21f",
   "metadata": {},
   "outputs": [],
   "source": [
    "def save_imgs(scl_256, rgb_256, lc_256, root_dir):\n",
    "    if not is_lc_valid(scl_256):\n",
    "        return False\n",
    "    fn = rgb_files[idx].split(\"_\")\n",
    "    fn = fn[0][3:6] #f\"{fn[0]}_{fn[1]}\"\n",
    "    pathname = f\"{fn}_{w}_{h}.png\"\n",
    "    scl_fn = f\"{root_dir}/scl/{pathname}\"\n",
    "    lc_fn = f\"{root_dir}/lc/{pathname}\"\n",
    "    rgb_fn = f\"{root_dir}/rgb/{pathname}\"\n",
    "\n",
    "    plt.imsave(scl_fn, scl_256)\n",
    "    lc_256 = np.ascontiguousarray(np.moveaxis(lc_256, 0, -1))\n",
    "    rgb_256 = np.ascontiguousarray(np.moveaxis(rgb_256, 0, -1))\n",
    "\n",
    "    plt.imsave(lc_fn, lc_256)\n",
    "    plt.imsave(rgb_fn, rgb_256)\n",
    "    plt.close()\n",
    "    return True"
   ]
  },
  {
   "cell_type": "code",
   "execution_count": 23,
   "id": "96af0a89",
   "metadata": {},
   "outputs": [],
   "source": [
    "# create dirs\n",
    "grid_dir = \"grid_dir2\"\n",
    "if not os.path.exists(grid_dir):\n",
    "    os.mkdir(grid_dir)\n",
    "possible_dirs = [f\"{grid_dir}/train\", f\"{grid_dir}/test\", f\"{grid_dir}/val\"]\n",
    "possible_subdirs = [\"rgb\", \"all\", \"lc\",\"scl\"]\n",
    "for d in possible_dirs:\n",
    "    if not os.path.exists(d):\n",
    "        os.mkdir(d)\n",
    "    for sd in possible_subdirs:\n",
    "        full_sd = f\"{d}/{sd}\"\n",
    "        if not os.path.exists(full_sd):\n",
    "            os.mkdir(full_sd)"
   ]
  },
  {
   "cell_type": "code",
   "execution_count": 24,
   "id": "ddec2553",
   "metadata": {},
   "outputs": [
    {
     "name": "stderr",
     "output_type": "stream",
     "text": [
      "0 / 12, grid_dir2/train: 100%|████████████████| 84/84 [12:50<00:00,  9.17s/it]\n",
      "1 / 12, grid_dir2/train: 100%|████████████████| 84/84 [11:38<00:00,  8.31s/it]\n",
      "2 / 12, grid_dir2/val: 100%|██████████████████| 84/84 [29:56<00:00, 21.38s/it]\n"
     ]
    },
    {
     "ename": "MemoryError",
     "evalue": "Unable to allocate 6.25 GiB for an array with shape (4, 41742, 40200) and data type uint8",
     "output_type": "error",
     "traceback": [
      "\u001b[1;31m---------------------------------------------------------------------------\u001b[0m",
      "\u001b[1;31mMemoryError\u001b[0m                               Traceback (most recent call last)",
      "\u001b[1;32m<ipython-input-24-12d61d75d639>\u001b[0m in \u001b[0;36m<module>\u001b[1;34m\u001b[0m\n\u001b[0;32m     14\u001b[0m \u001b[1;33m\u001b[0m\u001b[0m\n\u001b[0;32m     15\u001b[0m \u001b[1;33m\u001b[0m\u001b[0m\n\u001b[1;32m---> 16\u001b[1;33m     \u001b[0mscl_a\u001b[0m\u001b[1;33m,\u001b[0m \u001b[0mrgb_r\u001b[0m\u001b[1;33m,\u001b[0m \u001b[0mlc_a\u001b[0m \u001b[1;33m=\u001b[0m \u001b[0mget_scl_rgb_lc\u001b[0m\u001b[1;33m(\u001b[0m\u001b[0midx\u001b[0m\u001b[1;33m)\u001b[0m\u001b[1;33m\u001b[0m\u001b[1;33m\u001b[0m\u001b[0m\n\u001b[0m\u001b[0;32m     17\u001b[0m     \u001b[0mloop\u001b[0m \u001b[1;33m=\u001b[0m \u001b[0mtqdm\u001b[0m\u001b[1;33m(\u001b[0m\u001b[0mrange\u001b[0m\u001b[1;33m(\u001b[0m\u001b[1;36m0\u001b[0m\u001b[1;33m,\u001b[0m \u001b[0mrgb_r\u001b[0m\u001b[1;33m.\u001b[0m\u001b[0mshape\u001b[0m\u001b[1;33m[\u001b[0m\u001b[1;36m2\u001b[0m\u001b[1;33m]\u001b[0m \u001b[1;33m-\u001b[0m \u001b[1;36m256\u001b[0m\u001b[1;33m,\u001b[0m \u001b[1;36m128\u001b[0m\u001b[1;33m)\u001b[0m\u001b[1;33m)\u001b[0m\u001b[1;33m\u001b[0m\u001b[1;33m\u001b[0m\u001b[0m\n\u001b[0;32m     18\u001b[0m     \u001b[0mloop\u001b[0m\u001b[1;33m.\u001b[0m\u001b[0mset_description\u001b[0m\u001b[1;33m(\u001b[0m\u001b[1;34mf\"{idx} / {len(rgb_files)-1}, {root_dir}\"\u001b[0m\u001b[1;33m)\u001b[0m\u001b[1;33m\u001b[0m\u001b[1;33m\u001b[0m\u001b[0m\n",
      "\u001b[1;32m<ipython-input-16-844fbf727bbe>\u001b[0m in \u001b[0;36mget_scl_rgb_lc\u001b[1;34m(idx)\u001b[0m\n\u001b[0;32m      5\u001b[0m     \u001b[0mrgb_r\u001b[0m \u001b[1;33m=\u001b[0m \u001b[0mrgb\u001b[0m\u001b[1;33m.\u001b[0m\u001b[0mread\u001b[0m\u001b[1;33m(\u001b[0m\u001b[1;33m)\u001b[0m\u001b[1;33m\u001b[0m\u001b[1;33m\u001b[0m\u001b[0m\n\u001b[0;32m      6\u001b[0m     \u001b[0mscl_a\u001b[0m \u001b[1;33m=\u001b[0m \u001b[0malign\u001b[0m\u001b[1;33m(\u001b[0m\u001b[0mscl\u001b[0m\u001b[1;33m,\u001b[0m \u001b[0mrgb\u001b[0m\u001b[1;33m,\u001b[0m \u001b[0mscl\u001b[0m\u001b[1;33m.\u001b[0m\u001b[0mread\u001b[0m\u001b[1;33m(\u001b[0m\u001b[1;33m)\u001b[0m\u001b[1;33m,\u001b[0m \u001b[0mrgb_r\u001b[0m\u001b[1;33m)\u001b[0m\u001b[1;33m\u001b[0m\u001b[1;33m\u001b[0m\u001b[0m\n\u001b[1;32m----> 7\u001b[1;33m     \u001b[0mlc_r\u001b[0m \u001b[1;33m=\u001b[0m \u001b[0mlc\u001b[0m\u001b[1;33m.\u001b[0m\u001b[0mread\u001b[0m\u001b[1;33m(\u001b[0m\u001b[1;33m)\u001b[0m\u001b[1;33m\u001b[0m\u001b[1;33m\u001b[0m\u001b[0m\n\u001b[0m\u001b[0;32m      8\u001b[0m     \u001b[0mlc_a\u001b[0m \u001b[1;33m=\u001b[0m \u001b[0malign\u001b[0m\u001b[1;33m(\u001b[0m\u001b[0mlc\u001b[0m\u001b[1;33m,\u001b[0m \u001b[0mrgb\u001b[0m\u001b[1;33m,\u001b[0m \u001b[0mlc_r\u001b[0m\u001b[1;33m,\u001b[0m \u001b[0mrgb_r\u001b[0m\u001b[1;33m)\u001b[0m\u001b[1;33m\u001b[0m\u001b[1;33m\u001b[0m\u001b[0m\n\u001b[0;32m      9\u001b[0m     \u001b[1;32mdel\u001b[0m \u001b[0mlc_r\u001b[0m\u001b[1;33m\u001b[0m\u001b[1;33m\u001b[0m\u001b[0m\n",
      "\u001b[1;32mrasterio\\_io.pyx\u001b[0m in \u001b[0;36mrasterio._io.DatasetReaderBase.read\u001b[1;34m()\u001b[0m\n",
      "\u001b[1;31mMemoryError\u001b[0m: Unable to allocate 6.25 GiB for an array with shape (4, 41742, 40200) and data type uint8"
     ]
    }
   ],
   "source": [
    "# save them not randomly\n",
    "\n",
    "for idx in range(len(rgb_files)):\n",
    "    j=0\n",
    "    # save 1000 samples\n",
    "    tile_name = rgb_files[idx].split(\"_\")[0][3:6]\n",
    "    \n",
    "    if tile_name == test_tile:\n",
    "        root_dir = f\"{grid_dir}/test\"\n",
    "    elif tile_name == val_tile:\n",
    "        root_dir = f\"{grid_dir}/val\"\n",
    "    else:\n",
    "        root_dir = f\"{grid_dir}/train\"\n",
    "    \n",
    "    \n",
    "    scl_a, rgb_r, lc_a = get_scl_rgb_lc(idx)\n",
    "    loop = tqdm(range(0, rgb_r.shape[2] - 256, 128))\n",
    "    loop.set_description(f\"{idx} / {len(rgb_files)-1}, {root_dir}\")\n",
    "    for w in loop:\n",
    "        for h in range(0, rgb_r.shape[1] - 256, 128):\n",
    "\n",
    "            lc_256 = lc_a[:,h:h+256,w:w+256]\n",
    "            rgb_256 = rgb_r[:,h:h+256,w:w+256]\n",
    "            scl_256 = scl_a[0][h:h+256,w:w+256]\n",
    "\n",
    "            if save_imgs(scl_256, rgb_256, lc_256, root_dir):\n",
    "                print_all(scl_256, rgb_256, lc_256, root_dir)\n",
    "                "
   ]
  },
  {
   "cell_type": "code",
   "execution_count": null,
   "id": "9f954759",
   "metadata": {},
   "outputs": [],
   "source": []
  }
 ],
 "metadata": {
  "kernelspec": {
   "display_name": "Python 3",
   "language": "python",
   "name": "python3"
  },
  "language_info": {
   "codemirror_mode": {
    "name": "ipython",
    "version": 3
   },
   "file_extension": ".py",
   "mimetype": "text/x-python",
   "name": "python",
   "nbconvert_exporter": "python",
   "pygments_lexer": "ipython3",
   "version": "3.8.5"
  }
 },
 "nbformat": 4,
 "nbformat_minor": 5
}
