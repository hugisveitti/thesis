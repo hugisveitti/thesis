{
 "cells": [
  {
   "cell_type": "code",
   "execution_count": 58,
   "id": "436eba78",
   "metadata": {},
   "outputs": [],
   "source": [
    "import numpy as np\n",
    "import os\n",
    "from tqdm import tqdm\n",
    "import ast\n",
    "import matplotlib.pyplot as plt"
   ]
  },
  {
   "cell_type": "code",
   "execution_count": 71,
   "id": "474df650",
   "metadata": {},
   "outputs": [],
   "source": [
    "class_map = {\n",
    "    0:0, # clouds -> other\n",
    "    1:1, # artificial -> artificial\n",
    "    2:2, # Cultivated -> cultivated\n",
    "    3:0, # vineyards -> other\n",
    "    4:3, # broadleaf tree cover -> broadleaf tree cover\n",
    "    5:4, # Coniferous tree cover -> Coniferous tree cover\n",
    "    6:5, # Herbaceous vegetation -> Herbaceous vegetation\n",
    "    7:6, # Moors and Heathland -> Moors and Heathland\n",
    "    8:0, # Sclerophyllous vegetation -> other\n",
    "    9:7, # Marches -> Marches\n",
    "    10:8, # Peatbogs -> Peatbogs\n",
    "    11:0, # Natural material -> other\n",
    "    12:0, # snow -> other\n",
    "    13:0, # water -> other\n",
    "}"
   ]
  },
  {
   "cell_type": "code",
   "execution_count": 72,
   "id": "aad12c67",
   "metadata": {},
   "outputs": [],
   "source": [
    "def create_class_from_num(num):\n",
    "    c = np.zeros(9)\n",
    "    c[class_map[num]] = 1\n",
    "    return c"
   ]
  },
  {
   "cell_type": "code",
   "execution_count": 76,
   "id": "4c9488c0",
   "metadata": {},
   "outputs": [
    {
     "name": "stderr",
     "output_type": "stream",
     "text": [
      "\r",
      "  0%|          | 0/12324 [00:00<?, ?it/s]"
     ]
    },
    {
     "name": "stdout",
     "output_type": "stream",
     "text": [
      "train\n"
     ]
    },
    {
     "name": "stderr",
     "output_type": "stream",
     "text": [
      "100%|██████████| 12324/12324 [33:23<00:00,  6.15it/s] \n",
      "  0%|          | 1/2881 [00:00<07:22,  6.51it/s]"
     ]
    },
    {
     "name": "stdout",
     "output_type": "stream",
     "text": [
      "val\n"
     ]
    },
    {
     "name": "stderr",
     "output_type": "stream",
     "text": [
      "100%|██████████| 2881/2881 [06:16<00:00,  7.64it/s]\n",
      "  0%|          | 1/3153 [00:00<07:16,  7.22it/s]"
     ]
    },
    {
     "name": "stdout",
     "output_type": "stream",
     "text": [
      "test\n"
     ]
    },
    {
     "name": "stderr",
     "output_type": "stream",
     "text": [
      "100%|██████████| 3153/3153 [06:52<00:00,  7.64it/s]\n"
     ]
    }
   ],
   "source": [
    "\n",
    "for dataset in [\"train\", \"val\", \"test\"]:\n",
    "    root_dir = f\"grid_dir/{dataset}/lc_classes\"\n",
    "    new_dir = f\"grid_dir/{dataset}/reduced_classes\"\n",
    "    if not os.path.exists(new_dir):\n",
    "        os.mkdir(new_dir)\n",
    "    files = os.listdir(root_dir)\n",
    "    print(dataset)\n",
    "    for i in tqdm(range(len(files))):\n",
    "        fn = files[i] \n",
    "        with np.load(os.path.join(root_dir, fn)) as f:\n",
    "            lc = f[\"arr_0\"]\n",
    "        lc = np.argmax(lc, axis=2)\n",
    "        reduced_lc = [create_class_from_num(i) for i in lc.flatten()]\n",
    "        reduced_lc = np.array(reduced_lc).reshape(256,256,9)\n",
    "        np.savez_compressed(os.path.join(new_dir, fn), reduced_lc)"
   ]
  },
  {
   "cell_type": "code",
   "execution_count": 66,
   "id": "8ac0c799",
   "metadata": {},
   "outputs": [
    {
     "data": {
      "text/plain": [
       "(256, 256, 9)"
      ]
     },
     "execution_count": 66,
     "metadata": {},
     "output_type": "execute_result"
    }
   ],
   "source": [
    "n_lc.shape"
   ]
  },
  {
   "cell_type": "code",
   "execution_count": 51,
   "id": "f8a3ba0e",
   "metadata": {},
   "outputs": [
    {
     "data": {
      "text/plain": [
       "array([[[0., 0., 1., ..., 0., 0., 0.],\n",
       "        [0., 0., 1., ..., 0., 0., 0.],\n",
       "        [0., 0., 1., ..., 0., 0., 0.],\n",
       "        ...,\n",
       "        [0., 0., 0., ..., 0., 0., 0.],\n",
       "        [0., 0., 0., ..., 0., 0., 0.],\n",
       "        [0., 0., 1., ..., 0., 0., 0.]],\n",
       "\n",
       "       [[0., 0., 1., ..., 0., 0., 0.],\n",
       "        [0., 0., 1., ..., 0., 0., 0.],\n",
       "        [0., 0., 1., ..., 0., 0., 0.],\n",
       "        ...,\n",
       "        [0., 0., 0., ..., 0., 0., 0.],\n",
       "        [0., 0., 0., ..., 0., 0., 0.],\n",
       "        [0., 0., 0., ..., 0., 0., 0.]],\n",
       "\n",
       "       [[0., 0., 1., ..., 0., 0., 0.],\n",
       "        [0., 0., 1., ..., 0., 0., 0.],\n",
       "        [0., 0., 1., ..., 0., 0., 0.],\n",
       "        ...,\n",
       "        [0., 0., 0., ..., 0., 0., 0.],\n",
       "        [0., 0., 0., ..., 0., 0., 0.],\n",
       "        [0., 0., 0., ..., 0., 0., 0.]],\n",
       "\n",
       "       ...,\n",
       "\n",
       "       [[0., 0., 1., ..., 0., 0., 0.],\n",
       "        [0., 1., 0., ..., 0., 0., 0.],\n",
       "        [0., 1., 0., ..., 0., 0., 0.],\n",
       "        ...,\n",
       "        [0., 0., 1., ..., 0., 0., 0.],\n",
       "        [0., 0., 1., ..., 0., 0., 0.],\n",
       "        [0., 0., 1., ..., 0., 0., 0.]],\n",
       "\n",
       "       [[0., 0., 1., ..., 0., 0., 0.],\n",
       "        [0., 0., 1., ..., 0., 0., 0.],\n",
       "        [0., 0., 1., ..., 0., 0., 0.],\n",
       "        ...,\n",
       "        [0., 0., 1., ..., 0., 0., 0.],\n",
       "        [0., 0., 1., ..., 0., 0., 0.],\n",
       "        [0., 0., 1., ..., 0., 0., 0.]],\n",
       "\n",
       "       [[0., 0., 1., ..., 0., 0., 0.],\n",
       "        [0., 0., 1., ..., 0., 0., 0.],\n",
       "        [0., 0., 1., ..., 0., 0., 0.],\n",
       "        ...,\n",
       "        [0., 0., 1., ..., 0., 0., 0.],\n",
       "        [0., 0., 1., ..., 0., 0., 0.],\n",
       "        [0., 0., 1., ..., 0., 0., 0.]]])"
      ]
     },
     "execution_count": 51,
     "metadata": {},
     "output_type": "execute_result"
    }
   ],
   "source": [
    "n_lc"
   ]
  },
  {
   "cell_type": "code",
   "execution_count": 53,
   "id": "09078046",
   "metadata": {},
   "outputs": [],
   "source": [
    "lc_labels = {\n",
    "    str([255, 255, 255, 255]):\"Other\",\n",
    "    str([210,0,0,255]):\"Artificial surfaces and constructions\",\n",
    "    str([253,211,39,255]):\"Cultivated areas\",\n",
    "    str([35,152,0,255]):\"Broadleaf tree cover\",\n",
    "    str([8,98,0,255]):\"Coniferous tree cover\",\n",
    "    str([249,150,39,255]):\"Herbaceous vegetation\",\n",
    "    str([141,139,0,255]):\"Moors and Heathland\",\n",
    "    str([149,107,196,255]):\"Marshes\",\n",
    "    str([77,37,106,255]):\"Peatbogs\",\n",
    "}"
   ]
  },
  {
   "cell_type": "code",
   "execution_count": 81,
   "id": "d8eb9573",
   "metadata": {},
   "outputs": [
    {
     "name": "stdout",
     "output_type": "stream",
     "text": [
      "0: 'Other',\n",
      "1: 'Artificial surfaces and constructions',\n",
      "2: 'Cultivated areas',\n",
      "3: 'Broadleaf tree cover',\n",
      "4: 'Coniferous tree cover',\n",
      "5: 'Herbaceous vegetation',\n",
      "6: 'Moors and Heathland',\n",
      "7: 'Marshes',\n",
      "8: 'Peatbogs',\n"
     ]
    }
   ],
   "source": [
    "j = 0\n",
    "for i in lc_labels:\n",
    "    #print(f\"{j}: str({i}),\")\n",
    "    print(f\"{j}: '{lc_labels[i]}',\")\n",
    "    j += 1"
   ]
  },
  {
   "cell_type": "code",
   "execution_count": 60,
   "id": "d8093dac",
   "metadata": {},
   "outputs": [],
   "source": [
    "lc_pixels = {\n",
    "    0: str([255, 255, 255, 255]),\n",
    "    1: str([210, 0, 0, 255]),\n",
    "    2: str([253, 211, 39, 255]),\n",
    "    3: str([35, 152, 0, 255]),\n",
    "    4: str([8, 98, 0, 255]),\n",
    "    5: str([249, 150, 39, 255]),\n",
    "    6: str([141, 139, 0, 255]),\n",
    "    7: str([149, 107, 196, 255]),\n",
    "    8: str([77, 37, 106, 255]),\n",
    "}"
   ]
  },
  {
   "cell_type": "code",
   "execution_count": 61,
   "id": "0454f4bb",
   "metadata": {},
   "outputs": [],
   "source": [
    "# to revert to an image\n",
    "def create_img_pixels(img_classes):\n",
    "    img = np.zeros((img_classes.shape[0], img_classes.shape[1], 4), dtype=np.uint8)\n",
    "    for i in range(img.shape[0]):\n",
    "        for j in range(img.shape[1]):\n",
    "            img[i,j] = ast.literal_eval(lc_pixels[np.argmax(img_classes[i,j])])\n",
    "    return img"
   ]
  },
  {
   "cell_type": "code",
   "execution_count": 62,
   "id": "1b132e6b",
   "metadata": {},
   "outputs": [],
   "source": [
    "img = create_img_pixels(n_lc)"
   ]
  },
  {
   "cell_type": "code",
   "execution_count": 63,
   "id": "263837fe",
   "metadata": {},
   "outputs": [
    {
     "data": {
      "text/plain": [
       "<matplotlib.image.AxesImage at 0x1c8dff3ac70>"
      ]
     },
     "execution_count": 63,
     "metadata": {},
     "output_type": "execute_result"
    },
    {
     "data": {
      "image/png": "[encoded data removed]",
      "text/plain": [
       "<Figure size 432x288 with 1 Axes>"
      ]
     },
     "metadata": {
      "needs_background": "light"
     },
     "output_type": "display_data"
    }
   ],
   "source": [
    "plt.imshow(img)"
   ]
  },
  {
   "cell_type": "code",
   "execution_count": null,
   "id": "63c39b22",
   "metadata": {},
   "outputs": [],
   "source": []
  }
 ],
 "metadata": {
  "kernelspec": {
   "display_name": "Python 3",
   "language": "python",
   "name": "python3"
  },
  "language_info": {
   "codemirror_mode": {
    "name": "ipython",
    "version": 3
   },
   "file_extension": ".py",
   "mimetype": "text/x-python",
   "name": "python",
   "nbconvert_exporter": "python",
   "pygments_lexer": "ipython3",
   "version": "3.8.5"
  }
 },
 "nbformat": 4,
 "nbformat_minor": 5
}
