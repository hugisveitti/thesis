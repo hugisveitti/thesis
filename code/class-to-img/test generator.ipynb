{
 "cells": [
  {
   "cell_type": "code",
   "execution_count": 1,
   "id": "2352677d",
   "metadata": {},
   "outputs": [],
   "source": [
    "import torch\n",
    "import os\n",
    "import numpy as np\n",
    "import matplotlib.pyplot as plt\n",
    "from generator import Generator"
   ]
  },
  {
   "cell_type": "code",
   "execution_count": 2,
   "id": "6984d767",
   "metadata": {},
   "outputs": [],
   "source": [
    "#! pip install torchvision"
   ]
  },
  {
   "cell_type": "code",
   "execution_count": 3,
   "id": "74284106",
   "metadata": {},
   "outputs": [],
   "source": [
    "from utils import create_img_from_classes"
   ]
  },
  {
   "cell_type": "code",
   "execution_count": 4,
   "id": "fa65d1c7",
   "metadata": {},
   "outputs": [],
   "source": [
    "files_path = \"../../data/test/\"\n",
    "files = os.listdir(os.path.join(files_path, \"lc_classes\"))"
   ]
  },
  {
   "cell_type": "code",
   "execution_count": 5,
   "id": "21d2923b",
   "metadata": {},
   "outputs": [],
   "source": [
    "idx = 6\n",
    "filename = files[idx]\n",
    "file = os.path.join(files_path, \"lc_classes\", filename)"
   ]
  },
  {
   "cell_type": "code",
   "execution_count": 6,
   "id": "74c3ee43",
   "metadata": {},
   "outputs": [
    {
     "data": {
      "text/plain": [
       "(256, 256, 14)"
      ]
     },
     "execution_count": 6,
     "metadata": {},
     "output_type": "execute_result"
    }
   ],
   "source": [
    "classes = np.load(file)[\"arr_0\"]\n",
    "classes.shape"
   ]
  },
  {
   "cell_type": "code",
   "execution_count": 7,
   "id": "69a1e732",
   "metadata": {},
   "outputs": [
    {
     "data": {
      "text/plain": [
       "(256, 256, 4)"
      ]
     },
     "execution_count": 7,
     "metadata": {},
     "output_type": "execute_result"
    }
   ],
   "source": [
    "classes_img = create_img_from_classes(classes)\n",
    "classes_img.shape"
   ]
  },
  {
   "cell_type": "code",
   "execution_count": 8,
   "id": "76929b48",
   "metadata": {},
   "outputs": [],
   "source": [
    "fn = filename.split(\".\")[0] + \".png\"\n",
    "target_img = plt.imread(os.path.join(files_path, \"rgb\", fn))"
   ]
  },
  {
   "cell_type": "code",
   "execution_count": 9,
   "id": "9fc08fa3",
   "metadata": {},
   "outputs": [],
   "source": [
    "#plt.imshow(target_img)\n",
    "#plt.show()"
   ]
  },
  {
   "cell_type": "code",
   "execution_count": 10,
   "id": "ab3f84a7",
   "metadata": {},
   "outputs": [],
   "source": [
    "#plt.imshow(classes_img)\n",
    "#plt.close()"
   ]
  },
  {
   "cell_type": "code",
   "execution_count": null,
   "id": "71aa7984",
   "metadata": {},
   "outputs": [],
   "source": []
  },
  {
   "cell_type": "code",
   "execution_count": 11,
   "id": "c3aa8370",
   "metadata": {},
   "outputs": [
    {
     "data": {
      "text/plain": [
       "<All keys matched successfully>"
      ]
     },
     "execution_count": 11,
     "metadata": {},
     "output_type": "execute_result"
    }
   ],
   "source": [
    "generator = Generator(14,3)\n",
    "generator.load_state_dict(torch.load(\"colab/models/generator29.pt\",map_location=torch.device('cpu')))"
   ]
  },
  {
   "cell_type": "code",
   "execution_count": 12,
   "id": "b97c9421",
   "metadata": {},
   "outputs": [],
   "source": [
    "classes_t = torch.tensor(classes)\n",
    "classes_t = torch.movedim(classes_t, -1, 0).float()\n",
    "classes_t = classes_t.reshape((1, 14, 256, 256))"
   ]
  },
  {
   "cell_type": "code",
   "execution_count": 13,
   "id": "b1e2e806",
   "metadata": {},
   "outputs": [
    {
     "data": {
      "text/plain": [
       "torch.Size([1, 14, 256, 256])"
      ]
     },
     "execution_count": 13,
     "metadata": {},
     "output_type": "execute_result"
    }
   ],
   "source": [
    "classes_t.shape"
   ]
  },
  {
   "cell_type": "code",
   "execution_count": 27,
   "id": "4e6c7b4d",
   "metadata": {},
   "outputs": [],
   "source": [
    "gen_img = generator(classes_t)"
   ]
  },
  {
   "cell_type": "code",
   "execution_count": 28,
   "id": "f69030fb",
   "metadata": {},
   "outputs": [
    {
     "data": {
      "text/plain": [
       "(256, 256, 3)"
      ]
     },
     "execution_count": 28,
     "metadata": {},
     "output_type": "execute_result"
    }
   ],
   "source": [
    "gen_img = gen_img\n",
    "gen_img = gen_img.detach().numpy()[0]\n",
    "gen_img = np.moveaxis(gen_img, 0, -1)\n",
    "gen_img.shape"
   ]
  },
  {
   "cell_type": "code",
   "execution_count": null,
   "id": "233a0328",
   "metadata": {},
   "outputs": [],
   "source": [
    "#plt.imshow(gen_img)"
   ]
  },
  {
   "cell_type": "code",
   "execution_count": 30,
   "id": "350330ab",
   "metadata": {},
   "outputs": [],
   "source": [
    "gen_img = np.array((gen_img *0.5 + 0.5) * 255, dtype = np.uint8)"
   ]
  },
  {
   "cell_type": "code",
   "execution_count": 31,
   "id": "2a65048e",
   "metadata": {},
   "outputs": [
    {
     "data": {
      "text/plain": [
       "array([[[109,  88,  69],\n",
       "        [100,  74,  58],\n",
       "        [101,  79,  58],\n",
       "        ...,\n",
       "        [102, 104,  75],\n",
       "        [ 94,  98,  72],\n",
       "        [104,  98,  75]],\n",
       "\n",
       "       [[121,  82,  71],\n",
       "        [126,  83,  77],\n",
       "        [117,  80,  74],\n",
       "        ...,\n",
       "        [105, 106,  79],\n",
       "        [ 77,  90,  65],\n",
       "        [ 85,  82,  65]],\n",
       "\n",
       "       [[120,  82,  72],\n",
       "        [123,  79,  71],\n",
       "        [119,  82,  75],\n",
       "        ...,\n",
       "        [108, 105,  82],\n",
       "        [ 80,  87,  69],\n",
       "        [ 79,  79,  65]],\n",
       "\n",
       "       ...,\n",
       "\n",
       "       [[ 47,  61,  25],\n",
       "        [126, 114,  64],\n",
       "        [125, 115,  60],\n",
       "        ...,\n",
       "        [ 83,  74,  47],\n",
       "        [ 81,  67,  42],\n",
       "        [ 68,  63,  38]],\n",
       "\n",
       "       [[ 46,  63,  27],\n",
       "        [120, 109,  56],\n",
       "        [122, 112,  54],\n",
       "        ...,\n",
       "        [116,  84,  56],\n",
       "        [108,  77,  55],\n",
       "        [ 68,  63,  38]],\n",
       "\n",
       "       [[ 37,  59,  26],\n",
       "        [ 61,  77,  35],\n",
       "        [ 45,  67,  30],\n",
       "        ...,\n",
       "        [103,  86,  53],\n",
       "        [ 78,  72,  44],\n",
       "        [ 62,  63,  36]]], dtype=uint8)"
      ]
     },
     "execution_count": 31,
     "metadata": {},
     "output_type": "execute_result"
    }
   ],
   "source": [
    "gen_img"
   ]
  },
  {
   "cell_type": "code",
   "execution_count": null,
   "id": "a6e44c09",
   "metadata": {},
   "outputs": [],
   "source": []
  }
 ],
 "metadata": {
  "kernelspec": {
   "display_name": "Python 3",
   "language": "python",
   "name": "python3"
  },
  "language_info": {
   "codemirror_mode": {
    "name": "ipython",
    "version": 3
   },
   "file_extension": ".py",
   "mimetype": "text/x-python",
   "name": "python",
   "nbconvert_exporter": "python",
   "pygments_lexer": "ipython3",
   "version": "3.8.8"
  }
 },
 "nbformat": 4,
 "nbformat_minor": 5
}
