{
 "cells": [
  {
   "cell_type": "code",
   "execution_count": 1,
   "id": "3beb6957",
   "metadata": {},
   "outputs": [],
   "source": [
    "import torch\n",
    "from dataset import SatelliteDataset\n",
    "import matplotlib.pyplot as plt\n",
    "import numpy as np\n",
    "from datautils import unprocess, create_img_from_classes"
   ]
  },
  {
   "cell_type": "code",
   "execution_count": 2,
   "id": "7abeb775",
   "metadata": {},
   "outputs": [],
   "source": [
    "ds = SatelliteDataset(\"../../data/val\")\n",
    "loader = torch.utils.data.DataLoader(ds, 1)"
   ]
  },
  {
   "cell_type": "code",
   "execution_count": 3,
   "id": "d74980a4",
   "metadata": {},
   "outputs": [],
   "source": [
    "def calc_class_split(classes, ax = None):\n",
    "    b = torch.flatten(classes, 1)\n",
    "    c = torch.argmax(b,0)\n",
    "    split = []\n",
    "    for cla in range(14):\n",
    "        split.append(c[c == cla].size()[0] / c.size()[0])\n",
    "    if ax:\n",
    "        ax.bar(list(range(14)), split)\n",
    "    else:\n",
    "        plt.figure()\n",
    "        plt.bar(list(range(14)),split)\n",
    "    most_common_class = np.argmax(split)\n",
    "    print(\"most common class\", most_common_class)"
   ]
  },
  {
   "cell_type": "code",
   "execution_count": 4,
   "id": "c0d80650",
   "metadata": {},
   "outputs": [
    {
     "name": "stdout",
     "output_type": "stream",
     "text": [
      "most common class 2\n"
     ]
    },
    {
     "data": {
      "image/png": "[encoded data removed]",
      "text/plain": [
       "<Figure size 864x288 with 3 Axes>"
      ]
     },
     "metadata": {
      "needs_background": "light"
     },
     "output_type": "display_data"
    }
   ],
   "source": [
    "size = 32\n",
    "for rgb_a, rgb_b, rgb_ab, lc_a, lc_b, lc_ab in loader:\n",
    "    #calc_class_split(lc_b[0])\n",
    "    #calc_class_split(lc_a[0])\n",
    "    \n",
    "    lc_aup = unprocess(lc_a, False)\n",
    "    lc_aup = create_img_from_classes(lc_aup)\n",
    "    rgb_a = unprocess(rgb_a)\n",
    "    \n",
    "    \n",
    "    r_w = np.random.randint(256 - size)\n",
    "    r_h = np.random.randint(256 - size)\n",
    "    \n",
    "    mlc = lc_aup[r_w:r_w+size, r_h:r_h + size, :]\n",
    "    mrgb_a = rgb_a[r_w:r_w+size, r_h:r_h + size, :]\n",
    "    \n",
    "    fig, ax = plt.subplots(1,3, figsize=(12,4))\n",
    "    ax[0].imshow(mlc)\n",
    "    ax[1].imshow(mrgb_a)\n",
    "    calc_class_split(lc_a[0,:,r_w:r_w+size, r_h:r_h + size], ax[2])\n",
    "    \n",
    "    break"
   ]
  },
  {
   "cell_type": "code",
   "execution_count": 2,
   "id": "dc092fd6",
   "metadata": {},
   "outputs": [
    {
     "name": "stderr",
     "output_type": "stream",
     "text": [
      "Using cache found in C:\\Users\\hugih/.cache\\torch\\hub\\pytorch_vision_v0.9.0\n"
     ]
    }
   ],
   "source": [
    "model = torch.hub.load('pytorch/vision:v0.9.0', 'vgg16', pretrained=True)"
   ]
  },
  {
   "cell_type": "code",
   "execution_count": 6,
   "id": "4d3b8f35",
   "metadata": {},
   "outputs": [
    {
     "data": {
      "text/plain": [
       "VGG(\n",
       "  (features): Sequential(\n",
       "    (0): Conv2d(3, 64, kernel_size=(3, 3), stride=(1, 1), padding=(1, 1))\n",
       "    (1): ReLU(inplace=True)\n",
       "    (2): Conv2d(64, 64, kernel_size=(3, 3), stride=(1, 1), padding=(1, 1))\n",
       "    (3): ReLU(inplace=True)\n",
       "    (4): MaxPool2d(kernel_size=2, stride=2, padding=0, dilation=1, ceil_mode=False)\n",
       "    (5): Conv2d(64, 128, kernel_size=(3, 3), stride=(1, 1), padding=(1, 1))\n",
       "    (6): ReLU(inplace=True)\n",
       "    (7): Conv2d(128, 128, kernel_size=(3, 3), stride=(1, 1), padding=(1, 1))\n",
       "    (8): ReLU(inplace=True)\n",
       "    (9): MaxPool2d(kernel_size=2, stride=2, padding=0, dilation=1, ceil_mode=False)\n",
       "    (10): Conv2d(128, 256, kernel_size=(3, 3), stride=(1, 1), padding=(1, 1))\n",
       "    (11): ReLU(inplace=True)\n",
       "    (12): Conv2d(256, 256, kernel_size=(3, 3), stride=(1, 1), padding=(1, 1))\n",
       "    (13): ReLU(inplace=True)\n",
       "    (14): Conv2d(256, 256, kernel_size=(3, 3), stride=(1, 1), padding=(1, 1))\n",
       "    (15): ReLU(inplace=True)\n",
       "    (16): MaxPool2d(kernel_size=2, stride=2, padding=0, dilation=1, ceil_mode=False)\n",
       "    (17): Conv2d(256, 512, kernel_size=(3, 3), stride=(1, 1), padding=(1, 1))\n",
       "    (18): ReLU(inplace=True)\n",
       "    (19): Conv2d(512, 512, kernel_size=(3, 3), stride=(1, 1), padding=(1, 1))\n",
       "    (20): ReLU(inplace=True)\n",
       "    (21): Conv2d(512, 512, kernel_size=(3, 3), stride=(1, 1), padding=(1, 1))\n",
       "    (22): ReLU(inplace=True)\n",
       "    (23): MaxPool2d(kernel_size=2, stride=2, padding=0, dilation=1, ceil_mode=False)\n",
       "    (24): Conv2d(512, 512, kernel_size=(3, 3), stride=(1, 1), padding=(1, 1))\n",
       "    (25): ReLU(inplace=True)\n",
       "    (26): Conv2d(512, 512, kernel_size=(3, 3), stride=(1, 1), padding=(1, 1))\n",
       "    (27): ReLU(inplace=True)\n",
       "    (28): Conv2d(512, 512, kernel_size=(3, 3), stride=(1, 1), padding=(1, 1))\n",
       "    (29): ReLU(inplace=True)\n",
       "    (30): MaxPool2d(kernel_size=2, stride=2, padding=0, dilation=1, ceil_mode=False)\n",
       "  )\n",
       "  (avgpool): AdaptiveAvgPool2d(output_size=(7, 7))\n",
       "  (classifier): Sequential(\n",
       "    (0): Linear(in_features=25088, out_features=4096, bias=True)\n",
       "    (1): ReLU(inplace=True)\n",
       "    (2): Dropout(p=0.5, inplace=False)\n",
       "    (3): Linear(in_features=4096, out_features=4096, bias=True)\n",
       "    (4): ReLU(inplace=True)\n",
       "    (5): Dropout(p=0.5, inplace=False)\n",
       "    (6): Linear(in_features=4096, out_features=1000, bias=True)\n",
       "  )\n",
       ")"
      ]
     },
     "execution_count": 6,
     "metadata": {},
     "output_type": "execute_result"
    }
   ],
   "source": [
    "model"
   ]
  },
  {
   "cell_type": "code",
   "execution_count": 7,
   "id": "6dddb7ae",
   "metadata": {},
   "outputs": [],
   "source": [
    "img = torch.randn((2, 3, 256, 256))"
   ]
  },
  {
   "cell_type": "code",
   "execution_count": 8,
   "id": "16e680bc",
   "metadata": {},
   "outputs": [],
   "source": [
    "out = model(img)"
   ]
  },
  {
   "cell_type": "code",
   "execution_count": 9,
   "id": "dbe2f516",
   "metadata": {},
   "outputs": [
    {
     "data": {
      "text/plain": [
       "torch.Size([2, 1000])"
      ]
     },
     "execution_count": 9,
     "metadata": {},
     "output_type": "execute_result"
    }
   ],
   "source": [
    "out.shape"
   ]
  },
  {
   "cell_type": "code",
   "execution_count": 10,
   "id": "23acf94d",
   "metadata": {},
   "outputs": [
    {
     "name": "stdout",
     "output_type": "stream",
     "text": [
      "VGG(\n",
      "  (features): Sequential(\n",
      "    (0): Conv2d(3, 64, kernel_size=(3, 3), stride=(1, 1), padding=(1, 1))\n",
      "    (1): ReLU(inplace=True)\n",
      "    (2): Conv2d(64, 64, kernel_size=(3, 3), stride=(1, 1), padding=(1, 1))\n",
      "    (3): ReLU(inplace=True)\n",
      "    (4): MaxPool2d(kernel_size=2, stride=2, padding=0, dilation=1, ceil_mode=False)\n",
      "    (5): Conv2d(64, 128, kernel_size=(3, 3), stride=(1, 1), padding=(1, 1))\n",
      "    (6): ReLU(inplace=True)\n",
      "    (7): Conv2d(128, 128, kernel_size=(3, 3), stride=(1, 1), padding=(1, 1))\n",
      "    (8): ReLU(inplace=True)\n",
      "    (9): MaxPool2d(kernel_size=2, stride=2, padding=0, dilation=1, ceil_mode=False)\n",
      "    (10): Conv2d(128, 256, kernel_size=(3, 3), stride=(1, 1), padding=(1, 1))\n",
      "    (11): ReLU(inplace=True)\n",
      "    (12): Conv2d(256, 256, kernel_size=(3, 3), stride=(1, 1), padding=(1, 1))\n",
      "    (13): ReLU(inplace=True)\n",
      "    (14): Conv2d(256, 256, kernel_size=(3, 3), stride=(1, 1), padding=(1, 1))\n",
      "    (15): ReLU(inplace=True)\n",
      "    (16): MaxPool2d(kernel_size=2, stride=2, padding=0, dilation=1, ceil_mode=False)\n",
      "    (17): Conv2d(256, 512, kernel_size=(3, 3), stride=(1, 1), padding=(1, 1))\n",
      "    (18): ReLU(inplace=True)\n",
      "    (19): Conv2d(512, 512, kernel_size=(3, 3), stride=(1, 1), padding=(1, 1))\n",
      "    (20): ReLU(inplace=True)\n",
      "    (21): Conv2d(512, 512, kernel_size=(3, 3), stride=(1, 1), padding=(1, 1))\n",
      "    (22): ReLU(inplace=True)\n",
      "    (23): MaxPool2d(kernel_size=2, stride=2, padding=0, dilation=1, ceil_mode=False)\n",
      "    (24): Conv2d(512, 512, kernel_size=(3, 3), stride=(1, 1), padding=(1, 1))\n",
      "    (25): ReLU(inplace=True)\n",
      "    (26): Conv2d(512, 512, kernel_size=(3, 3), stride=(1, 1), padding=(1, 1))\n",
      "    (27): ReLU(inplace=True)\n",
      "    (28): Conv2d(512, 512, kernel_size=(3, 3), stride=(1, 1), padding=(1, 1))\n",
      "    (29): ReLU(inplace=True)\n",
      "    (30): MaxPool2d(kernel_size=2, stride=2, padding=0, dilation=1, ceil_mode=False)\n",
      "  )\n",
      "  (avgpool): AdaptiveAvgPool2d(output_size=(7, 7))\n",
      "  (classifier): Sequential(\n",
      "    (0): Linear(in_features=25088, out_features=4096, bias=True)\n",
      "    (1): ReLU(inplace=True)\n",
      "    (2): Dropout(p=0.5, inplace=False)\n",
      "    (3): Linear(in_features=4096, out_features=4096, bias=True)\n",
      "    (4): ReLU(inplace=True)\n",
      "    (5): Dropout(p=0.5, inplace=False)\n",
      "    (6): Linear(in_features=4096, out_features=1000, bias=True)\n",
      "  )\n",
      ")\n",
      "Sequential(\n",
      "  (0): Conv2d(3, 64, kernel_size=(3, 3), stride=(1, 1), padding=(1, 1))\n",
      "  (1): ReLU(inplace=True)\n",
      "  (2): Conv2d(64, 64, kernel_size=(3, 3), stride=(1, 1), padding=(1, 1))\n",
      "  (3): ReLU(inplace=True)\n",
      "  (4): MaxPool2d(kernel_size=2, stride=2, padding=0, dilation=1, ceil_mode=False)\n",
      "  (5): Conv2d(64, 128, kernel_size=(3, 3), stride=(1, 1), padding=(1, 1))\n",
      "  (6): ReLU(inplace=True)\n",
      "  (7): Conv2d(128, 128, kernel_size=(3, 3), stride=(1, 1), padding=(1, 1))\n",
      "  (8): ReLU(inplace=True)\n",
      "  (9): MaxPool2d(kernel_size=2, stride=2, padding=0, dilation=1, ceil_mode=False)\n",
      "  (10): Conv2d(128, 256, kernel_size=(3, 3), stride=(1, 1), padding=(1, 1))\n",
      "  (11): ReLU(inplace=True)\n",
      "  (12): Conv2d(256, 256, kernel_size=(3, 3), stride=(1, 1), padding=(1, 1))\n",
      "  (13): ReLU(inplace=True)\n",
      "  (14): Conv2d(256, 256, kernel_size=(3, 3), stride=(1, 1), padding=(1, 1))\n",
      "  (15): ReLU(inplace=True)\n",
      "  (16): MaxPool2d(kernel_size=2, stride=2, padding=0, dilation=1, ceil_mode=False)\n",
      "  (17): Conv2d(256, 512, kernel_size=(3, 3), stride=(1, 1), padding=(1, 1))\n",
      "  (18): ReLU(inplace=True)\n",
      "  (19): Conv2d(512, 512, kernel_size=(3, 3), stride=(1, 1), padding=(1, 1))\n",
      "  (20): ReLU(inplace=True)\n",
      "  (21): Conv2d(512, 512, kernel_size=(3, 3), stride=(1, 1), padding=(1, 1))\n",
      "  (22): ReLU(inplace=True)\n",
      "  (23): MaxPool2d(kernel_size=2, stride=2, padding=0, dilation=1, ceil_mode=False)\n",
      "  (24): Conv2d(512, 512, kernel_size=(3, 3), stride=(1, 1), padding=(1, 1))\n",
      "  (25): ReLU(inplace=True)\n",
      "  (26): Conv2d(512, 512, kernel_size=(3, 3), stride=(1, 1), padding=(1, 1))\n",
      "  (27): ReLU(inplace=True)\n",
      "  (28): Conv2d(512, 512, kernel_size=(3, 3), stride=(1, 1), padding=(1, 1))\n",
      "  (29): ReLU(inplace=True)\n",
      "  (30): MaxPool2d(kernel_size=2, stride=2, padding=0, dilation=1, ceil_mode=False)\n",
      ")\n",
      "Conv2d(3, 64, kernel_size=(3, 3), stride=(1, 1), padding=(1, 1))\n",
      "ReLU(inplace=True)\n",
      "Conv2d(64, 64, kernel_size=(3, 3), stride=(1, 1), padding=(1, 1))\n",
      "ReLU(inplace=True)\n",
      "MaxPool2d(kernel_size=2, stride=2, padding=0, dilation=1, ceil_mode=False)\n",
      "Conv2d(64, 128, kernel_size=(3, 3), stride=(1, 1), padding=(1, 1))\n",
      "ReLU(inplace=True)\n",
      "Conv2d(128, 128, kernel_size=(3, 3), stride=(1, 1), padding=(1, 1))\n",
      "ReLU(inplace=True)\n",
      "MaxPool2d(kernel_size=2, stride=2, padding=0, dilation=1, ceil_mode=False)\n",
      "Conv2d(128, 256, kernel_size=(3, 3), stride=(1, 1), padding=(1, 1))\n",
      "ReLU(inplace=True)\n",
      "Conv2d(256, 256, kernel_size=(3, 3), stride=(1, 1), padding=(1, 1))\n",
      "ReLU(inplace=True)\n",
      "Conv2d(256, 256, kernel_size=(3, 3), stride=(1, 1), padding=(1, 1))\n",
      "ReLU(inplace=True)\n",
      "MaxPool2d(kernel_size=2, stride=2, padding=0, dilation=1, ceil_mode=False)\n",
      "Conv2d(256, 512, kernel_size=(3, 3), stride=(1, 1), padding=(1, 1))\n",
      "ReLU(inplace=True)\n",
      "Conv2d(512, 512, kernel_size=(3, 3), stride=(1, 1), padding=(1, 1))\n",
      "ReLU(inplace=True)\n",
      "Conv2d(512, 512, kernel_size=(3, 3), stride=(1, 1), padding=(1, 1))\n",
      "ReLU(inplace=True)\n",
      "MaxPool2d(kernel_size=2, stride=2, padding=0, dilation=1, ceil_mode=False)\n",
      "Conv2d(512, 512, kernel_size=(3, 3), stride=(1, 1), padding=(1, 1))\n",
      "ReLU(inplace=True)\n",
      "Conv2d(512, 512, kernel_size=(3, 3), stride=(1, 1), padding=(1, 1))\n",
      "ReLU(inplace=True)\n",
      "Conv2d(512, 512, kernel_size=(3, 3), stride=(1, 1), padding=(1, 1))\n",
      "ReLU(inplace=True)\n",
      "MaxPool2d(kernel_size=2, stride=2, padding=0, dilation=1, ceil_mode=False)\n",
      "AdaptiveAvgPool2d(output_size=(7, 7))\n",
      "Sequential(\n",
      "  (0): Linear(in_features=25088, out_features=4096, bias=True)\n",
      "  (1): ReLU(inplace=True)\n",
      "  (2): Dropout(p=0.5, inplace=False)\n",
      "  (3): Linear(in_features=4096, out_features=4096, bias=True)\n",
      "  (4): ReLU(inplace=True)\n",
      "  (5): Dropout(p=0.5, inplace=False)\n",
      "  (6): Linear(in_features=4096, out_features=1000, bias=True)\n",
      ")\n",
      "Linear(in_features=25088, out_features=4096, bias=True)\n",
      "ReLU(inplace=True)\n",
      "Dropout(p=0.5, inplace=False)\n",
      "Linear(in_features=4096, out_features=4096, bias=True)\n",
      "ReLU(inplace=True)\n",
      "Dropout(p=0.5, inplace=False)\n",
      "Linear(in_features=4096, out_features=1000, bias=True)\n"
     ]
    }
   ],
   "source": [
    "for m in model.modules():\n",
    "    print(m)"
   ]
  },
  {
   "cell_type": "code",
   "execution_count": 3,
   "id": "d85f982f",
   "metadata": {},
   "outputs": [],
   "source": [
    "#relu1_2 = torch.nn.Sequential(*model.features[:4])\n",
    "#relu2_2 = torch.nn.Sequential(*model.features[:9])\n",
    "relu3_3 = torch.nn.Sequential(*model.features[:16])\n",
    "#relu4_3 = torch.nn.Sequential(*model.features[:23])"
   ]
  },
  {
   "cell_type": "code",
   "execution_count": 12,
   "id": "e74f90b0",
   "metadata": {},
   "outputs": [
    {
     "data": {
      "text/plain": [
       "torch.Size([2, 256, 64, 64])"
      ]
     },
     "execution_count": 12,
     "metadata": {},
     "output_type": "execute_result"
    }
   ],
   "source": [
    "relu3_3(img).shape"
   ]
  },
  {
   "cell_type": "code",
   "execution_count": 14,
   "id": "466315d4",
   "metadata": {},
   "outputs": [],
   "source": [
    "#relu4_3"
   ]
  },
  {
   "cell_type": "code",
   "execution_count": 56,
   "id": "28606f22",
   "metadata": {},
   "outputs": [],
   "source": [
    "img1 = torch.randn((5,3, 256, 256))\n",
    "img2 = torch.randn((5,3, 256, 256))\n",
    "phi1 = relu3_3(img1)\n",
    "phi2 = relu3_3(img2)"
   ]
  },
  {
   "cell_type": "code",
   "execution_count": 57,
   "id": "0efc4980",
   "metadata": {},
   "outputs": [],
   "source": [
    "num_imgs, c, h, w = phi1.shape\n",
    "psi1 = phi1.reshape((num_imgs, c, w*h))\n",
    "psi2 = phi2.reshape((num_imgs, c, w*h))\n",
    "gram1 = torch.matmul(psi1, torch.transpose(psi1, 1, 2)) / (c*h*w)\n",
    "gram2 = torch.matmul(psi2, torch.transpose(psi2, 1, 2)) / (c*h*w)"
   ]
  },
  {
   "cell_type": "code",
   "execution_count": 73,
   "id": "16d892e1",
   "metadata": {},
   "outputs": [
    {
     "data": {
      "text/plain": [
       "tensor(0.2461, grad_fn=<DivBackward0>)"
      ]
     },
     "execution_count": 73,
     "metadata": {},
     "output_type": "execute_result"
    }
   ],
   "source": [
    "torch.sum(torch.norm(gram1 - gram2, p = \"fro\",dim=(1,2))) / num_imgs"
   ]
  },
  {
   "cell_type": "code",
   "execution_count": 55,
   "id": "5b47cd31",
   "metadata": {},
   "outputs": [
    {
     "data": {
      "text/plain": [
       "torch.Size([1, 256, 256])"
      ]
     },
     "execution_count": 55,
     "metadata": {},
     "output_type": "execute_result"
    }
   ],
   "source": [
    "gram1.shape"
   ]
  },
  {
   "cell_type": "code",
   "execution_count": 33,
   "id": "1c22791c",
   "metadata": {},
   "outputs": [
    {
     "data": {
      "text/plain": [
       "tensor([], dtype=torch.bool)"
      ]
     },
     "execution_count": 33,
     "metadata": {},
     "output_type": "execute_result"
    }
   ],
   "source": [
    "a[a == False]"
   ]
  },
  {
   "cell_type": "code",
   "execution_count": 15,
   "id": "f6e26777",
   "metadata": {},
   "outputs": [],
   "source": [
    "f = relu3_3(img)"
   ]
  },
  {
   "cell_type": "code",
   "execution_count": 42,
   "id": "0740d3b3",
   "metadata": {},
   "outputs": [],
   "source": [
    "b = torch.tensor([[1,2],[3,4]])\n",
    "b1 = torch.tensor([[0,1], [2,1],[3,4]])"
   ]
  },
  {
   "cell_type": "code",
   "execution_count": 43,
   "id": "2be3fc2b",
   "metadata": {},
   "outputs": [
    {
     "ename": "RuntimeError",
     "evalue": "The size of tensor a (2) must match the size of tensor b (3) at non-singleton dimension 0",
     "output_type": "error",
     "traceback": [
      "\u001b[1;31m---------------------------------------------------------------------------\u001b[0m",
      "\u001b[1;31mRuntimeError\u001b[0m                              Traceback (most recent call last)",
      "\u001b[1;32m<ipython-input-43-7df9d48a19f1>\u001b[0m in \u001b[0;36m<module>\u001b[1;34m\u001b[0m\n\u001b[1;32m----> 1\u001b[1;33m \u001b[0mb\u001b[0m\u001b[1;33m-\u001b[0m \u001b[0mb1\u001b[0m\u001b[1;33m\u001b[0m\u001b[1;33m\u001b[0m\u001b[0m\n\u001b[0m",
      "\u001b[1;31mRuntimeError\u001b[0m: The size of tensor a (2) must match the size of tensor b (3) at non-singleton dimension 0"
     ]
    }
   ],
   "source": [
    "b- b1"
   ]
  },
  {
   "cell_type": "code",
   "execution_count": 77,
   "id": "f099a4e0",
   "metadata": {},
   "outputs": [],
   "source": [
    "def calc_style_loss(phi1, phi2):\n",
    "    batch_size, c, h, w = phi1.shape\n",
    "    psi1 = phi1.reshape((batch_size, c, w*h))\n",
    "    psi2 = phi2.reshape((batch_size, c, w*h))\n",
    "    \n",
    "    gram1 = torch.matmul(psi1, torch.transpose(psi1, 1, 2)) / (c*h*w)\n",
    "    gram2 = torch.matmul(psi2, torch.transpose(psi2, 1, 2)) / (c*h*w)\n",
    "    # as described in johnson et al.\n",
    "    return torch.sum(torch.norm(gram1 - gram2, p = \"fro\", dim=(1,2))) / batch_size"
   ]
  },
  {
   "cell_type": "code",
   "execution_count": 78,
   "id": "6b079f30",
   "metadata": {},
   "outputs": [
    {
     "data": {
      "text/plain": [
       "tensor(0.2414, grad_fn=<DivBackward0>)"
      ]
     },
     "execution_count": 78,
     "metadata": {},
     "output_type": "execute_result"
    }
   ],
   "source": [
    "img1 = torch.randn((1, 3, 256, 256))\n",
    "img2 = torch.randn((1, 3, 256, 256))\n",
    "phi1 = relu3_3(img1)\n",
    "phi2 = relu3_3(img2)\n",
    "calc_style_loss(phi1, phi2)"
   ]
  },
  {
   "cell_type": "code",
   "execution_count": 79,
   "id": "a2ee248f",
   "metadata": {},
   "outputs": [],
   "source": [
    "import torch.nn as nn"
   ]
  },
  {
   "cell_type": "code",
   "execution_count": 80,
   "id": "d356fe16",
   "metadata": {},
   "outputs": [],
   "source": [
    "mse_fn = nn.MSELoss()\n",
    "l1_fn = nn.L1Loss()\n",
    "class_loss_fn = nn.CrossEntropyLoss()\n",
    "adv_loss_fn = nn.MSELoss()"
   ]
  },
  {
   "cell_type": "code",
   "execution_count": 81,
   "id": "043839bb",
   "metadata": {},
   "outputs": [],
   "source": [
    "batch_size = 30"
   ]
  },
  {
   "cell_type": "code",
   "execution_count": 82,
   "id": "320beab4",
   "metadata": {},
   "outputs": [],
   "source": [
    "from tqdm import tqdm"
   ]
  },
  {
   "cell_type": "code",
   "execution_count": 83,
   "id": "851a3466",
   "metadata": {},
   "outputs": [
    {
     "name": "stderr",
     "output_type": "stream",
     "text": [
      "100%|██████████| 16/16 [01:42<00:00,  6.44s/it]\n"
     ]
    }
   ],
   "source": [
    "bs = []\n",
    "loss_names = [\"style_loss\", \"mse\", \"l1\", \"class_loss\", \"adv_loss_ones\", \"adv_loss_zeros\"]\n",
    "losses = {}\n",
    "for l in loss_names:\n",
    "    losses[l] = []\n",
    "    \n",
    "for batch_size in tqdm(range(1, 32, 2)):\n",
    "    img1 = torch.randn((batch_size, 3, 256, 256))\n",
    "    img2 = torch.randn((batch_size, 3, 256, 256))\n",
    "    phi1 = relu3_3(img1)\n",
    "    phi2 = relu3_3(img2)\n",
    "    style_loss = calc_style_loss(phi1, phi2)\n",
    "\n",
    "    class1 = torch.zeros((batch_size, 14, 256, 256))\n",
    "    class2 = torch.zeros((batch_size, 14, 256, 256))\n",
    "    for i in range(256):\n",
    "        for j in range(256):\n",
    "            class1[:,np.random.randint(14), i, j]\n",
    "            class2[:,np.random.randint(14), i, j]\n",
    "\n",
    "    class2 = torch.argmax(class2, dim=1)\n",
    "    mse = mse_fn(img1, img2)\n",
    "    l1 = l1_fn(img1, img2)\n",
    "    class_loss = class_loss_fn(class1, class2)\n",
    "\n",
    "    d_real = torch.randn(batch_size, 16, 16)\n",
    "    adv_loss_ones = adv_loss_fn(d_real, torch.ones_like(d_real))\n",
    "    adv_loss_zeros = adv_loss_fn(d_real, torch.zeros_like(d_real))\n",
    "    \n",
    "    bs.append(batch_size)\n",
    "    for l in loss_names:\n",
    "        losses[l].append(eval(l).item())\n",
    "    "
   ]
  },
  {
   "cell_type": "code",
   "execution_count": 84,
   "id": "ef497376",
   "metadata": {},
   "outputs": [],
   "source": [
    "import matplotlib.pyplot as plt"
   ]
  },
  {
   "cell_type": "code",
   "execution_count": 85,
   "id": "d35d660d",
   "metadata": {},
   "outputs": [
    {
     "data": {
      "text/plain": [
       "<matplotlib.legend.Legend at 0x14e001b2d00>"
      ]
     },
     "execution_count": 85,
     "metadata": {},
     "output_type": "execute_result"
    },
    {
     "data": {
      "image/png": "[encoded data removed]",
      "text/plain": [
       "<Figure size 432x288 with 1 Axes>"
      ]
     },
     "metadata": {
      "needs_background": "light"
     },
     "output_type": "display_data"
    }
   ],
   "source": [
    "for l in loss_names:\n",
    "    plt.plot(bs,losses[l], label=l)\n",
    "plt.legend()"
   ]
  },
  {
   "cell_type": "code",
   "execution_count": 17,
   "id": "3209b540",
   "metadata": {},
   "outputs": [
    {
     "name": "stdout",
     "output_type": "stream",
     "text": [
      "tensor(1.0164)\n",
      "tensor(1.9284)\n"
     ]
    }
   ],
   "source": [
    "d_real = torch.randn(2, 16, 16)\n",
    "print(adv_loss_fn(d_real, torch.zeros_like(d_real)))\n",
    "print(adv_loss_fn(d_real, torch.ones_like(d_real)))"
   ]
  },
  {
   "cell_type": "code",
   "execution_count": 27,
   "id": "56ed297b",
   "metadata": {},
   "outputs": [
    {
     "name": "stdout",
     "output_type": "stream",
     "text": [
      "tensor(0.2595, grad_fn=<CopyBackwards>)\n"
     ]
    }
   ],
   "source": [
    "batch_size = 1\n",
    "img1 = torch.randn((batch_size, 3, 256, 256))\n",
    "img2 = torch.randn((batch_size, 3, 256, 256))\n",
    "phi1 = relu3_3(img1)\n",
    "phi2 = relu3_3(img2)\n",
    "style_loss = calc_style_loss(phi1, phi2)\n",
    "print(style_loss)"
   ]
  },
  {
   "cell_type": "code",
   "execution_count": null,
   "id": "aef0f17c",
   "metadata": {},
   "outputs": [],
   "source": []
  }
 ],
 "metadata": {
  "kernelspec": {
   "display_name": "Python 3",
   "language": "python",
   "name": "python3"
  },
  "language_info": {
   "codemirror_mode": {
    "name": "ipython",
    "version": 3
   },
   "file_extension": ".py",
   "mimetype": "text/x-python",
   "name": "python",
   "nbconvert_exporter": "python",
   "pygments_lexer": "ipython3",
   "version": "3.9.5"
  }
 },
 "nbformat": 4,
 "nbformat_minor": 5
}
